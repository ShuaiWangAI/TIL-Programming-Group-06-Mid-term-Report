{
  "cells": [
    {
      "cell_type": "markdown",
      "metadata": {
        "id": "view-in-github",
        "colab_type": "text"
      },
      "source": [
        "<a href=\"https://colab.research.google.com/github/ShuaiWangAI/TIL-Programming-Group-06-Mid-term-Report/blob/main/Overspeed_analysis.ipynb\" target=\"_parent\"><img src=\"https://colab.research.google.com/assets/colab-badge.svg\" alt=\"Open In Colab\"/></a>"
      ]
    },
    {
      "cell_type": "markdown",
      "metadata": {
        "id": "f62d87d8-3f90-4a66-ab6b-88410a1fc824"
      },
      "source": [
        "# Data preparation"
      ],
      "id": "f62d87d8-3f90-4a66-ab6b-88410a1fc824"
    },
    {
      "cell_type": "markdown",
      "metadata": {
        "id": "ff4eac43-ef00-40c1-a9d8-e3576bc44cfb"
      },
      "source": [
        "## `Import library`"
      ],
      "id": "ff4eac43-ef00-40c1-a9d8-e3576bc44cfb"
    },
    {
      "cell_type": "code",
      "execution_count": 3,
      "metadata": {
        "id": "bb78c566-cf52-45dd-b547-5f8482568e47"
      },
      "outputs": [],
      "source": [
        "import numpy as np\n",
        "import pandas as pd\n",
        "import geopandas as gpd\n",
        "import scipy\n",
        "import matplotlib\n",
        "import matplotlib.pyplot as plt\n",
        "matplotlib.style.use('ggplot')\n",
        "import seaborn as sb\n",
        "# import scienceplots\n",
        "%matplotlib inline\n",
        "import sqlite3\n",
        "import sklearn\n",
        "from sklearn.cluster import KMeans"
      ],
      "id": "bb78c566-cf52-45dd-b547-5f8482568e47"
    },
    {
      "cell_type": "markdown",
      "metadata": {
        "id": "2bf7ca90-66e4-48d5-ae5e-352852dc2b8e"
      },
      "source": [
        "## `Load speed dataset`"
      ],
      "id": "2bf7ca90-66e4-48d5-ae5e-352852dc2b8e"
    },
    {
      "cell_type": "code",
      "execution_count": 4,
      "metadata": {
        "colab": {
          "base_uri": "https://localhost:8080/"
        },
        "id": "tYIj65VBPVZ4",
        "outputId": "cafe6efd-9850-4dce-db09-539aa3869a5b"
      },
      "outputs": [
        {
          "output_type": "stream",
          "name": "stdout",
          "text": [
            "Mounted at /content/drive/\n"
          ]
        }
      ],
      "source": [
        "# mount to Google Drive directory\n",
        "from google.colab import drive\n",
        "drive.mount('/content/drive/')"
      ],
      "id": "tYIj65VBPVZ4"
    },
    {
      "cell_type": "code",
      "execution_count": 5,
      "metadata": {
        "colab": {
          "base_uri": "https://localhost:8080/",
          "height": 215
        },
        "id": "e30453f4-e756-4384-baa2-c456df8e0e1a",
        "outputId": "66982aed-76bd-4cb7-d84a-a27f624da065"
      },
      "outputs": [
        {
          "output_type": "execute_result",
          "data": {
            "text/plain": [
              "   line  vehicle category wissel_number   direction                  hfk_in  \\\n",
              "0    11     5008      0.0          W003  Recht door 2023-01-01 08:52:44.340   \n",
              "1    11     5022      0.0          W003  Recht door 2023-01-01 09:11:48.060   \n",
              "2    11     5038      0.0          W003  Recht door 2023-01-01 09:31:47.460   \n",
              "\n",
              "                  hfk_uit  speed               duration  is_straight  year  \\\n",
              "0 2023-01-01 08:52:50.980     19 0 days 00:00:06.640000         True  2023   \n",
              "1 2023-01-01 09:11:54.820     19 0 days 00:00:06.760000         True  2023   \n",
              "2 2023-01-01 09:31:54.630     18 0 days 00:00:07.170000         True  2023   \n",
              "\n",
              "   month  day  hour  minute  \n",
              "0      1    1     8      52  \n",
              "1      1    1     9      11  \n",
              "2      1    1     9      31  "
            ],
            "text/html": [
              "\n",
              "  <div id=\"df-4a02fe77-c827-46fb-887d-24c572575727\" class=\"colab-df-container\">\n",
              "    <div>\n",
              "<style scoped>\n",
              "    .dataframe tbody tr th:only-of-type {\n",
              "        vertical-align: middle;\n",
              "    }\n",
              "\n",
              "    .dataframe tbody tr th {\n",
              "        vertical-align: top;\n",
              "    }\n",
              "\n",
              "    .dataframe thead th {\n",
              "        text-align: right;\n",
              "    }\n",
              "</style>\n",
              "<table border=\"1\" class=\"dataframe\">\n",
              "  <thead>\n",
              "    <tr style=\"text-align: right;\">\n",
              "      <th></th>\n",
              "      <th>line</th>\n",
              "      <th>vehicle</th>\n",
              "      <th>category</th>\n",
              "      <th>wissel_number</th>\n",
              "      <th>direction</th>\n",
              "      <th>hfk_in</th>\n",
              "      <th>hfk_uit</th>\n",
              "      <th>speed</th>\n",
              "      <th>duration</th>\n",
              "      <th>is_straight</th>\n",
              "      <th>year</th>\n",
              "      <th>month</th>\n",
              "      <th>day</th>\n",
              "      <th>hour</th>\n",
              "      <th>minute</th>\n",
              "    </tr>\n",
              "  </thead>\n",
              "  <tbody>\n",
              "    <tr>\n",
              "      <th>0</th>\n",
              "      <td>11</td>\n",
              "      <td>5008</td>\n",
              "      <td>0.0</td>\n",
              "      <td>W003</td>\n",
              "      <td>Recht door</td>\n",
              "      <td>2023-01-01 08:52:44.340</td>\n",
              "      <td>2023-01-01 08:52:50.980</td>\n",
              "      <td>19</td>\n",
              "      <td>0 days 00:00:06.640000</td>\n",
              "      <td>True</td>\n",
              "      <td>2023</td>\n",
              "      <td>1</td>\n",
              "      <td>1</td>\n",
              "      <td>8</td>\n",
              "      <td>52</td>\n",
              "    </tr>\n",
              "    <tr>\n",
              "      <th>1</th>\n",
              "      <td>11</td>\n",
              "      <td>5022</td>\n",
              "      <td>0.0</td>\n",
              "      <td>W003</td>\n",
              "      <td>Recht door</td>\n",
              "      <td>2023-01-01 09:11:48.060</td>\n",
              "      <td>2023-01-01 09:11:54.820</td>\n",
              "      <td>19</td>\n",
              "      <td>0 days 00:00:06.760000</td>\n",
              "      <td>True</td>\n",
              "      <td>2023</td>\n",
              "      <td>1</td>\n",
              "      <td>1</td>\n",
              "      <td>9</td>\n",
              "      <td>11</td>\n",
              "    </tr>\n",
              "    <tr>\n",
              "      <th>2</th>\n",
              "      <td>11</td>\n",
              "      <td>5038</td>\n",
              "      <td>0.0</td>\n",
              "      <td>W003</td>\n",
              "      <td>Recht door</td>\n",
              "      <td>2023-01-01 09:31:47.460</td>\n",
              "      <td>2023-01-01 09:31:54.630</td>\n",
              "      <td>18</td>\n",
              "      <td>0 days 00:00:07.170000</td>\n",
              "      <td>True</td>\n",
              "      <td>2023</td>\n",
              "      <td>1</td>\n",
              "      <td>1</td>\n",
              "      <td>9</td>\n",
              "      <td>31</td>\n",
              "    </tr>\n",
              "  </tbody>\n",
              "</table>\n",
              "</div>\n",
              "    <div class=\"colab-df-buttons\">\n",
              "\n",
              "  <div class=\"colab-df-container\">\n",
              "    <button class=\"colab-df-convert\" onclick=\"convertToInteractive('df-4a02fe77-c827-46fb-887d-24c572575727')\"\n",
              "            title=\"Convert this dataframe to an interactive table.\"\n",
              "            style=\"display:none;\">\n",
              "\n",
              "  <svg xmlns=\"http://www.w3.org/2000/svg\" height=\"24px\" viewBox=\"0 -960 960 960\">\n",
              "    <path d=\"M120-120v-720h720v720H120Zm60-500h600v-160H180v160Zm220 220h160v-160H400v160Zm0 220h160v-160H400v160ZM180-400h160v-160H180v160Zm440 0h160v-160H620v160ZM180-180h160v-160H180v160Zm440 0h160v-160H620v160Z\"/>\n",
              "  </svg>\n",
              "    </button>\n",
              "\n",
              "  <style>\n",
              "    .colab-df-container {\n",
              "      display:flex;\n",
              "      gap: 12px;\n",
              "    }\n",
              "\n",
              "    .colab-df-convert {\n",
              "      background-color: #E8F0FE;\n",
              "      border: none;\n",
              "      border-radius: 50%;\n",
              "      cursor: pointer;\n",
              "      display: none;\n",
              "      fill: #1967D2;\n",
              "      height: 32px;\n",
              "      padding: 0 0 0 0;\n",
              "      width: 32px;\n",
              "    }\n",
              "\n",
              "    .colab-df-convert:hover {\n",
              "      background-color: #E2EBFA;\n",
              "      box-shadow: 0px 1px 2px rgba(60, 64, 67, 0.3), 0px 1px 3px 1px rgba(60, 64, 67, 0.15);\n",
              "      fill: #174EA6;\n",
              "    }\n",
              "\n",
              "    .colab-df-buttons div {\n",
              "      margin-bottom: 4px;\n",
              "    }\n",
              "\n",
              "    [theme=dark] .colab-df-convert {\n",
              "      background-color: #3B4455;\n",
              "      fill: #D2E3FC;\n",
              "    }\n",
              "\n",
              "    [theme=dark] .colab-df-convert:hover {\n",
              "      background-color: #434B5C;\n",
              "      box-shadow: 0px 1px 3px 1px rgba(0, 0, 0, 0.15);\n",
              "      filter: drop-shadow(0px 1px 2px rgba(0, 0, 0, 0.3));\n",
              "      fill: #FFFFFF;\n",
              "    }\n",
              "  </style>\n",
              "\n",
              "    <script>\n",
              "      const buttonEl =\n",
              "        document.querySelector('#df-4a02fe77-c827-46fb-887d-24c572575727 button.colab-df-convert');\n",
              "      buttonEl.style.display =\n",
              "        google.colab.kernel.accessAllowed ? 'block' : 'none';\n",
              "\n",
              "      async function convertToInteractive(key) {\n",
              "        const element = document.querySelector('#df-4a02fe77-c827-46fb-887d-24c572575727');\n",
              "        const dataTable =\n",
              "          await google.colab.kernel.invokeFunction('convertToInteractive',\n",
              "                                                    [key], {});\n",
              "        if (!dataTable) return;\n",
              "\n",
              "        const docLinkHtml = 'Like what you see? Visit the ' +\n",
              "          '<a target=\"_blank\" href=https://colab.research.google.com/notebooks/data_table.ipynb>data table notebook</a>'\n",
              "          + ' to learn more about interactive tables.';\n",
              "        element.innerHTML = '';\n",
              "        dataTable['output_type'] = 'display_data';\n",
              "        await google.colab.output.renderOutput(dataTable, element);\n",
              "        const docLink = document.createElement('div');\n",
              "        docLink.innerHTML = docLinkHtml;\n",
              "        element.appendChild(docLink);\n",
              "      }\n",
              "    </script>\n",
              "  </div>\n",
              "\n",
              "\n",
              "<div id=\"df-9633dafa-2a5c-4f8d-a2de-233aa10c373e\">\n",
              "  <button class=\"colab-df-quickchart\" onclick=\"quickchart('df-9633dafa-2a5c-4f8d-a2de-233aa10c373e')\"\n",
              "            title=\"Suggest charts\"\n",
              "            style=\"display:none;\">\n",
              "\n",
              "<svg xmlns=\"http://www.w3.org/2000/svg\" height=\"24px\"viewBox=\"0 0 24 24\"\n",
              "     width=\"24px\">\n",
              "    <g>\n",
              "        <path d=\"M19 3H5c-1.1 0-2 .9-2 2v14c0 1.1.9 2 2 2h14c1.1 0 2-.9 2-2V5c0-1.1-.9-2-2-2zM9 17H7v-7h2v7zm4 0h-2V7h2v10zm4 0h-2v-4h2v4z\"/>\n",
              "    </g>\n",
              "</svg>\n",
              "  </button>\n",
              "\n",
              "<style>\n",
              "  .colab-df-quickchart {\n",
              "      --bg-color: #E8F0FE;\n",
              "      --fill-color: #1967D2;\n",
              "      --hover-bg-color: #E2EBFA;\n",
              "      --hover-fill-color: #174EA6;\n",
              "      --disabled-fill-color: #AAA;\n",
              "      --disabled-bg-color: #DDD;\n",
              "  }\n",
              "\n",
              "  [theme=dark] .colab-df-quickchart {\n",
              "      --bg-color: #3B4455;\n",
              "      --fill-color: #D2E3FC;\n",
              "      --hover-bg-color: #434B5C;\n",
              "      --hover-fill-color: #FFFFFF;\n",
              "      --disabled-bg-color: #3B4455;\n",
              "      --disabled-fill-color: #666;\n",
              "  }\n",
              "\n",
              "  .colab-df-quickchart {\n",
              "    background-color: var(--bg-color);\n",
              "    border: none;\n",
              "    border-radius: 50%;\n",
              "    cursor: pointer;\n",
              "    display: none;\n",
              "    fill: var(--fill-color);\n",
              "    height: 32px;\n",
              "    padding: 0;\n",
              "    width: 32px;\n",
              "  }\n",
              "\n",
              "  .colab-df-quickchart:hover {\n",
              "    background-color: var(--hover-bg-color);\n",
              "    box-shadow: 0 1px 2px rgba(60, 64, 67, 0.3), 0 1px 3px 1px rgba(60, 64, 67, 0.15);\n",
              "    fill: var(--button-hover-fill-color);\n",
              "  }\n",
              "\n",
              "  .colab-df-quickchart-complete:disabled,\n",
              "  .colab-df-quickchart-complete:disabled:hover {\n",
              "    background-color: var(--disabled-bg-color);\n",
              "    fill: var(--disabled-fill-color);\n",
              "    box-shadow: none;\n",
              "  }\n",
              "\n",
              "  .colab-df-spinner {\n",
              "    border: 2px solid var(--fill-color);\n",
              "    border-color: transparent;\n",
              "    border-bottom-color: var(--fill-color);\n",
              "    animation:\n",
              "      spin 1s steps(1) infinite;\n",
              "  }\n",
              "\n",
              "  @keyframes spin {\n",
              "    0% {\n",
              "      border-color: transparent;\n",
              "      border-bottom-color: var(--fill-color);\n",
              "      border-left-color: var(--fill-color);\n",
              "    }\n",
              "    20% {\n",
              "      border-color: transparent;\n",
              "      border-left-color: var(--fill-color);\n",
              "      border-top-color: var(--fill-color);\n",
              "    }\n",
              "    30% {\n",
              "      border-color: transparent;\n",
              "      border-left-color: var(--fill-color);\n",
              "      border-top-color: var(--fill-color);\n",
              "      border-right-color: var(--fill-color);\n",
              "    }\n",
              "    40% {\n",
              "      border-color: transparent;\n",
              "      border-right-color: var(--fill-color);\n",
              "      border-top-color: var(--fill-color);\n",
              "    }\n",
              "    60% {\n",
              "      border-color: transparent;\n",
              "      border-right-color: var(--fill-color);\n",
              "    }\n",
              "    80% {\n",
              "      border-color: transparent;\n",
              "      border-right-color: var(--fill-color);\n",
              "      border-bottom-color: var(--fill-color);\n",
              "    }\n",
              "    90% {\n",
              "      border-color: transparent;\n",
              "      border-bottom-color: var(--fill-color);\n",
              "    }\n",
              "  }\n",
              "</style>\n",
              "\n",
              "  <script>\n",
              "    async function quickchart(key) {\n",
              "      const quickchartButtonEl =\n",
              "        document.querySelector('#' + key + ' button');\n",
              "      quickchartButtonEl.disabled = true;  // To prevent multiple clicks.\n",
              "      quickchartButtonEl.classList.add('colab-df-spinner');\n",
              "      try {\n",
              "        const charts = await google.colab.kernel.invokeFunction(\n",
              "            'suggestCharts', [key], {});\n",
              "      } catch (error) {\n",
              "        console.error('Error during call to suggestCharts:', error);\n",
              "      }\n",
              "      quickchartButtonEl.classList.remove('colab-df-spinner');\n",
              "      quickchartButtonEl.classList.add('colab-df-quickchart-complete');\n",
              "    }\n",
              "    (() => {\n",
              "      let quickchartButtonEl =\n",
              "        document.querySelector('#df-9633dafa-2a5c-4f8d-a2de-233aa10c373e button');\n",
              "      quickchartButtonEl.style.display =\n",
              "        google.colab.kernel.accessAllowed ? 'block' : 'none';\n",
              "    })();\n",
              "  </script>\n",
              "</div>\n",
              "    </div>\n",
              "  </div>\n"
            ]
          },
          "metadata": {},
          "execution_count": 5
        }
      ],
      "source": [
        "# path = 'drive/MyDrive/Documents/HTM_dataset'\n",
        "path = 'drive/MyDrive/Design Project - HTM/HTM_dataset'\n",
        "\n",
        "speed_df = pd.read_csv(path + '/speed_365days.csv',\n",
        "                       index_col=0,\n",
        "                       parse_dates=['hfk_in', 'hfk_uit'])\n",
        "\n",
        "# rename the columns\n",
        "speed_df.columns = [\n",
        "    'line', 'vehicle', 'category', 'service', 'wissel_number', 'direction',\n",
        "    'hfk_in', 'hfk_uit', 'speed', 'code']\n",
        "\n",
        "# filter the tramline\n",
        "speed_df = speed_df[speed_df[\"line\"].isin(\n",
        "    [1, 2, 3, 4, 6, 9, 11, 12, 15, 16, 17, 19, 34])]\n",
        "speed_df = speed_df[speed_df[\"speed\"] > 0]\n",
        "speed_df = speed_df[speed_df['direction'].isin(\n",
        "    ['Recht door', ' links af', ' rechts af'])]\n",
        "\n",
        "# reset the dtypes of column\n",
        "speed_df['line'] = speed_df['line'].astype('int32')\n",
        "speed_df['vehicle'] = speed_df['vehicle'].astype('int32')\n",
        "speed_df['speed'] = speed_df['speed'].astype('int32')\n",
        "speed_df['category'] = speed_df['category'].astype('category')\n",
        "\n",
        "# add new columns\n",
        "# duration over the wissel\n",
        "speed_df['duration'] = speed_df['hfk_uit'] - speed_df['hfk_in']\n",
        "# go straightForward or turning\n",
        "speed_df['is_straight'] = speed_df[\"direction\"] == 'Recht door'\n",
        "# date and time\n",
        "speed_df['year'] = speed_df['hfk_in'].dt.year\n",
        "speed_df['month'] = speed_df['hfk_in'].dt.month\n",
        "speed_df['day'] = speed_df['hfk_in'].dt.day\n",
        "speed_df['hour'] = speed_df['hfk_in'].dt.hour\n",
        "speed_df['minute'] = speed_df['hfk_in'].dt.minute\n",
        "\n",
        "# only use year 2023\n",
        "year = 2023\n",
        "speed_df = speed_df[speed_df['year'] == year]\n",
        "\n",
        "# remove useless columns\n",
        "speed_df = speed_df.drop(['code', 'service'], axis=1)\n",
        "\n",
        "speed_df.head(3)"
      ],
      "id": "e30453f4-e756-4384-baa2-c456df8e0e1a"
    },
    {
      "cell_type": "code",
      "source": [
        "speed_df[\"wissel_number\"].unique().shape"
      ],
      "metadata": {
        "colab": {
          "base_uri": "https://localhost:8080/"
        },
        "id": "FD3b9KhM1mTA",
        "outputId": "7e0ebac9-c893-4d80-fe37-e5f01c0522e3"
      },
      "id": "FD3b9KhM1mTA",
      "execution_count": 6,
      "outputs": [
        {
          "output_type": "execute_result",
          "data": {
            "text/plain": [
              "(132,)"
            ]
          },
          "metadata": {},
          "execution_count": 6
        }
      ]
    },
    {
      "cell_type": "code",
      "execution_count": 7,
      "metadata": {
        "colab": {
          "base_uri": "https://localhost:8080/"
        },
        "id": "52fda32a-cd59-4e31-81f6-e0b0acf993f4",
        "outputId": "27dc018b-4aae-413c-a6d4-6d51ec9f83ed"
      },
      "outputs": [
        {
          "output_type": "stream",
          "name": "stdout",
          "text": [
            "Include [(2023, 1), (2023, 2), (2023, 3), (2023, 4), (2023, 5), (2023, 6), (2023, 7), (2023, 8), (2023, 9), (2023, 10), (2023, 11)]\n"
          ]
        }
      ],
      "source": [
        "print(f\"Include {speed_df.groupby(['year', 'month']).count().index.to_list()}\")"
      ],
      "id": "52fda32a-cd59-4e31-81f6-e0b0acf993f4"
    },
    {
      "cell_type": "markdown",
      "metadata": {
        "id": "26199fb7-68da-4132-b6af-0f3be56571bc"
      },
      "source": [
        "## `Join GPS data`"
      ],
      "id": "26199fb7-68da-4132-b6af-0f3be56571bc"
    },
    {
      "cell_type": "code",
      "execution_count": 8,
      "metadata": {
        "colab": {
          "base_uri": "https://localhost:8080/",
          "height": 399
        },
        "id": "6b50bc5c-0c72-4f61-9504-751826e57b57",
        "outputId": "7e662ca5-f054-491e-cb60-19af02553099"
      },
      "outputs": [
        {
          "output_type": "stream",
          "name": "stdout",
          "text": [
            "In total, 230 wissels with info of ['Wissel Nr', 'latitude', 'longitude']\n",
            "Joined dataset shape : (5135734, 18)\n",
            "Joined dataset columns:\n",
            " ['line', 'vehicle', 'category', 'wissel_number', 'direction', 'hfk_in', 'hfk_uit', 'speed', 'duration', 'is_straight', 'year', 'month', 'day', 'hour', 'minute', 'Wissel Nr', 'latitude', 'longitude']\n"
          ]
        },
        {
          "output_type": "execute_result",
          "data": {
            "text/plain": [
              "   line  vehicle category wissel_number   direction                  hfk_in  \\\n",
              "0    11     5008      0.0          W003  Recht door 2023-01-01 08:52:44.340   \n",
              "1    11     5022      0.0          W003  Recht door 2023-01-01 09:11:48.060   \n",
              "2    11     5038      0.0          W003  Recht door 2023-01-01 09:31:47.460   \n",
              "3    11     5008      0.0          W003  Recht door 2023-01-01 09:51:16.150   \n",
              "4    11     5022      0.0          W003  Recht door 2023-01-01 10:11:25.480   \n",
              "\n",
              "                  hfk_uit  speed               duration  is_straight  year  \\\n",
              "0 2023-01-01 08:52:50.980     19 0 days 00:00:06.640000         True  2023   \n",
              "1 2023-01-01 09:11:54.820     19 0 days 00:00:06.760000         True  2023   \n",
              "2 2023-01-01 09:31:54.630     18 0 days 00:00:07.170000         True  2023   \n",
              "3 2023-01-01 09:51:23.030     18 0 days 00:00:06.880000         True  2023   \n",
              "4 2023-01-01 10:11:33.440     16 0 days 00:00:07.960000         True  2023   \n",
              "\n",
              "   month  day  hour  minute Wissel Nr   latitude  longitude  \n",
              "0      1    1     8      52      W003  52.101527   4.274058  \n",
              "1      1    1     9      11      W003  52.101527   4.274058  \n",
              "2      1    1     9      31      W003  52.101527   4.274058  \n",
              "3      1    1     9      51      W003  52.101527   4.274058  \n",
              "4      1    1    10      11      W003  52.101527   4.274058  "
            ],
            "text/html": [
              "\n",
              "  <div id=\"df-3a80ec22-81c3-409d-b3ae-398209147ce6\" class=\"colab-df-container\">\n",
              "    <div>\n",
              "<style scoped>\n",
              "    .dataframe tbody tr th:only-of-type {\n",
              "        vertical-align: middle;\n",
              "    }\n",
              "\n",
              "    .dataframe tbody tr th {\n",
              "        vertical-align: top;\n",
              "    }\n",
              "\n",
              "    .dataframe thead th {\n",
              "        text-align: right;\n",
              "    }\n",
              "</style>\n",
              "<table border=\"1\" class=\"dataframe\">\n",
              "  <thead>\n",
              "    <tr style=\"text-align: right;\">\n",
              "      <th></th>\n",
              "      <th>line</th>\n",
              "      <th>vehicle</th>\n",
              "      <th>category</th>\n",
              "      <th>wissel_number</th>\n",
              "      <th>direction</th>\n",
              "      <th>hfk_in</th>\n",
              "      <th>hfk_uit</th>\n",
              "      <th>speed</th>\n",
              "      <th>duration</th>\n",
              "      <th>is_straight</th>\n",
              "      <th>year</th>\n",
              "      <th>month</th>\n",
              "      <th>day</th>\n",
              "      <th>hour</th>\n",
              "      <th>minute</th>\n",
              "      <th>Wissel Nr</th>\n",
              "      <th>latitude</th>\n",
              "      <th>longitude</th>\n",
              "    </tr>\n",
              "  </thead>\n",
              "  <tbody>\n",
              "    <tr>\n",
              "      <th>0</th>\n",
              "      <td>11</td>\n",
              "      <td>5008</td>\n",
              "      <td>0.0</td>\n",
              "      <td>W003</td>\n",
              "      <td>Recht door</td>\n",
              "      <td>2023-01-01 08:52:44.340</td>\n",
              "      <td>2023-01-01 08:52:50.980</td>\n",
              "      <td>19</td>\n",
              "      <td>0 days 00:00:06.640000</td>\n",
              "      <td>True</td>\n",
              "      <td>2023</td>\n",
              "      <td>1</td>\n",
              "      <td>1</td>\n",
              "      <td>8</td>\n",
              "      <td>52</td>\n",
              "      <td>W003</td>\n",
              "      <td>52.101527</td>\n",
              "      <td>4.274058</td>\n",
              "    </tr>\n",
              "    <tr>\n",
              "      <th>1</th>\n",
              "      <td>11</td>\n",
              "      <td>5022</td>\n",
              "      <td>0.0</td>\n",
              "      <td>W003</td>\n",
              "      <td>Recht door</td>\n",
              "      <td>2023-01-01 09:11:48.060</td>\n",
              "      <td>2023-01-01 09:11:54.820</td>\n",
              "      <td>19</td>\n",
              "      <td>0 days 00:00:06.760000</td>\n",
              "      <td>True</td>\n",
              "      <td>2023</td>\n",
              "      <td>1</td>\n",
              "      <td>1</td>\n",
              "      <td>9</td>\n",
              "      <td>11</td>\n",
              "      <td>W003</td>\n",
              "      <td>52.101527</td>\n",
              "      <td>4.274058</td>\n",
              "    </tr>\n",
              "    <tr>\n",
              "      <th>2</th>\n",
              "      <td>11</td>\n",
              "      <td>5038</td>\n",
              "      <td>0.0</td>\n",
              "      <td>W003</td>\n",
              "      <td>Recht door</td>\n",
              "      <td>2023-01-01 09:31:47.460</td>\n",
              "      <td>2023-01-01 09:31:54.630</td>\n",
              "      <td>18</td>\n",
              "      <td>0 days 00:00:07.170000</td>\n",
              "      <td>True</td>\n",
              "      <td>2023</td>\n",
              "      <td>1</td>\n",
              "      <td>1</td>\n",
              "      <td>9</td>\n",
              "      <td>31</td>\n",
              "      <td>W003</td>\n",
              "      <td>52.101527</td>\n",
              "      <td>4.274058</td>\n",
              "    </tr>\n",
              "    <tr>\n",
              "      <th>3</th>\n",
              "      <td>11</td>\n",
              "      <td>5008</td>\n",
              "      <td>0.0</td>\n",
              "      <td>W003</td>\n",
              "      <td>Recht door</td>\n",
              "      <td>2023-01-01 09:51:16.150</td>\n",
              "      <td>2023-01-01 09:51:23.030</td>\n",
              "      <td>18</td>\n",
              "      <td>0 days 00:00:06.880000</td>\n",
              "      <td>True</td>\n",
              "      <td>2023</td>\n",
              "      <td>1</td>\n",
              "      <td>1</td>\n",
              "      <td>9</td>\n",
              "      <td>51</td>\n",
              "      <td>W003</td>\n",
              "      <td>52.101527</td>\n",
              "      <td>4.274058</td>\n",
              "    </tr>\n",
              "    <tr>\n",
              "      <th>4</th>\n",
              "      <td>11</td>\n",
              "      <td>5022</td>\n",
              "      <td>0.0</td>\n",
              "      <td>W003</td>\n",
              "      <td>Recht door</td>\n",
              "      <td>2023-01-01 10:11:25.480</td>\n",
              "      <td>2023-01-01 10:11:33.440</td>\n",
              "      <td>16</td>\n",
              "      <td>0 days 00:00:07.960000</td>\n",
              "      <td>True</td>\n",
              "      <td>2023</td>\n",
              "      <td>1</td>\n",
              "      <td>1</td>\n",
              "      <td>10</td>\n",
              "      <td>11</td>\n",
              "      <td>W003</td>\n",
              "      <td>52.101527</td>\n",
              "      <td>4.274058</td>\n",
              "    </tr>\n",
              "  </tbody>\n",
              "</table>\n",
              "</div>\n",
              "    <div class=\"colab-df-buttons\">\n",
              "\n",
              "  <div class=\"colab-df-container\">\n",
              "    <button class=\"colab-df-convert\" onclick=\"convertToInteractive('df-3a80ec22-81c3-409d-b3ae-398209147ce6')\"\n",
              "            title=\"Convert this dataframe to an interactive table.\"\n",
              "            style=\"display:none;\">\n",
              "\n",
              "  <svg xmlns=\"http://www.w3.org/2000/svg\" height=\"24px\" viewBox=\"0 -960 960 960\">\n",
              "    <path d=\"M120-120v-720h720v720H120Zm60-500h600v-160H180v160Zm220 220h160v-160H400v160Zm0 220h160v-160H400v160ZM180-400h160v-160H180v160Zm440 0h160v-160H620v160ZM180-180h160v-160H180v160Zm440 0h160v-160H620v160Z\"/>\n",
              "  </svg>\n",
              "    </button>\n",
              "\n",
              "  <style>\n",
              "    .colab-df-container {\n",
              "      display:flex;\n",
              "      gap: 12px;\n",
              "    }\n",
              "\n",
              "    .colab-df-convert {\n",
              "      background-color: #E8F0FE;\n",
              "      border: none;\n",
              "      border-radius: 50%;\n",
              "      cursor: pointer;\n",
              "      display: none;\n",
              "      fill: #1967D2;\n",
              "      height: 32px;\n",
              "      padding: 0 0 0 0;\n",
              "      width: 32px;\n",
              "    }\n",
              "\n",
              "    .colab-df-convert:hover {\n",
              "      background-color: #E2EBFA;\n",
              "      box-shadow: 0px 1px 2px rgba(60, 64, 67, 0.3), 0px 1px 3px 1px rgba(60, 64, 67, 0.15);\n",
              "      fill: #174EA6;\n",
              "    }\n",
              "\n",
              "    .colab-df-buttons div {\n",
              "      margin-bottom: 4px;\n",
              "    }\n",
              "\n",
              "    [theme=dark] .colab-df-convert {\n",
              "      background-color: #3B4455;\n",
              "      fill: #D2E3FC;\n",
              "    }\n",
              "\n",
              "    [theme=dark] .colab-df-convert:hover {\n",
              "      background-color: #434B5C;\n",
              "      box-shadow: 0px 1px 3px 1px rgba(0, 0, 0, 0.15);\n",
              "      filter: drop-shadow(0px 1px 2px rgba(0, 0, 0, 0.3));\n",
              "      fill: #FFFFFF;\n",
              "    }\n",
              "  </style>\n",
              "\n",
              "    <script>\n",
              "      const buttonEl =\n",
              "        document.querySelector('#df-3a80ec22-81c3-409d-b3ae-398209147ce6 button.colab-df-convert');\n",
              "      buttonEl.style.display =\n",
              "        google.colab.kernel.accessAllowed ? 'block' : 'none';\n",
              "\n",
              "      async function convertToInteractive(key) {\n",
              "        const element = document.querySelector('#df-3a80ec22-81c3-409d-b3ae-398209147ce6');\n",
              "        const dataTable =\n",
              "          await google.colab.kernel.invokeFunction('convertToInteractive',\n",
              "                                                    [key], {});\n",
              "        if (!dataTable) return;\n",
              "\n",
              "        const docLinkHtml = 'Like what you see? Visit the ' +\n",
              "          '<a target=\"_blank\" href=https://colab.research.google.com/notebooks/data_table.ipynb>data table notebook</a>'\n",
              "          + ' to learn more about interactive tables.';\n",
              "        element.innerHTML = '';\n",
              "        dataTable['output_type'] = 'display_data';\n",
              "        await google.colab.output.renderOutput(dataTable, element);\n",
              "        const docLink = document.createElement('div');\n",
              "        docLink.innerHTML = docLinkHtml;\n",
              "        element.appendChild(docLink);\n",
              "      }\n",
              "    </script>\n",
              "  </div>\n",
              "\n",
              "\n",
              "<div id=\"df-6df3a87b-ad87-4657-8e7c-4e76c09c6dcc\">\n",
              "  <button class=\"colab-df-quickchart\" onclick=\"quickchart('df-6df3a87b-ad87-4657-8e7c-4e76c09c6dcc')\"\n",
              "            title=\"Suggest charts\"\n",
              "            style=\"display:none;\">\n",
              "\n",
              "<svg xmlns=\"http://www.w3.org/2000/svg\" height=\"24px\"viewBox=\"0 0 24 24\"\n",
              "     width=\"24px\">\n",
              "    <g>\n",
              "        <path d=\"M19 3H5c-1.1 0-2 .9-2 2v14c0 1.1.9 2 2 2h14c1.1 0 2-.9 2-2V5c0-1.1-.9-2-2-2zM9 17H7v-7h2v7zm4 0h-2V7h2v10zm4 0h-2v-4h2v4z\"/>\n",
              "    </g>\n",
              "</svg>\n",
              "  </button>\n",
              "\n",
              "<style>\n",
              "  .colab-df-quickchart {\n",
              "      --bg-color: #E8F0FE;\n",
              "      --fill-color: #1967D2;\n",
              "      --hover-bg-color: #E2EBFA;\n",
              "      --hover-fill-color: #174EA6;\n",
              "      --disabled-fill-color: #AAA;\n",
              "      --disabled-bg-color: #DDD;\n",
              "  }\n",
              "\n",
              "  [theme=dark] .colab-df-quickchart {\n",
              "      --bg-color: #3B4455;\n",
              "      --fill-color: #D2E3FC;\n",
              "      --hover-bg-color: #434B5C;\n",
              "      --hover-fill-color: #FFFFFF;\n",
              "      --disabled-bg-color: #3B4455;\n",
              "      --disabled-fill-color: #666;\n",
              "  }\n",
              "\n",
              "  .colab-df-quickchart {\n",
              "    background-color: var(--bg-color);\n",
              "    border: none;\n",
              "    border-radius: 50%;\n",
              "    cursor: pointer;\n",
              "    display: none;\n",
              "    fill: var(--fill-color);\n",
              "    height: 32px;\n",
              "    padding: 0;\n",
              "    width: 32px;\n",
              "  }\n",
              "\n",
              "  .colab-df-quickchart:hover {\n",
              "    background-color: var(--hover-bg-color);\n",
              "    box-shadow: 0 1px 2px rgba(60, 64, 67, 0.3), 0 1px 3px 1px rgba(60, 64, 67, 0.15);\n",
              "    fill: var(--button-hover-fill-color);\n",
              "  }\n",
              "\n",
              "  .colab-df-quickchart-complete:disabled,\n",
              "  .colab-df-quickchart-complete:disabled:hover {\n",
              "    background-color: var(--disabled-bg-color);\n",
              "    fill: var(--disabled-fill-color);\n",
              "    box-shadow: none;\n",
              "  }\n",
              "\n",
              "  .colab-df-spinner {\n",
              "    border: 2px solid var(--fill-color);\n",
              "    border-color: transparent;\n",
              "    border-bottom-color: var(--fill-color);\n",
              "    animation:\n",
              "      spin 1s steps(1) infinite;\n",
              "  }\n",
              "\n",
              "  @keyframes spin {\n",
              "    0% {\n",
              "      border-color: transparent;\n",
              "      border-bottom-color: var(--fill-color);\n",
              "      border-left-color: var(--fill-color);\n",
              "    }\n",
              "    20% {\n",
              "      border-color: transparent;\n",
              "      border-left-color: var(--fill-color);\n",
              "      border-top-color: var(--fill-color);\n",
              "    }\n",
              "    30% {\n",
              "      border-color: transparent;\n",
              "      border-left-color: var(--fill-color);\n",
              "      border-top-color: var(--fill-color);\n",
              "      border-right-color: var(--fill-color);\n",
              "    }\n",
              "    40% {\n",
              "      border-color: transparent;\n",
              "      border-right-color: var(--fill-color);\n",
              "      border-top-color: var(--fill-color);\n",
              "    }\n",
              "    60% {\n",
              "      border-color: transparent;\n",
              "      border-right-color: var(--fill-color);\n",
              "    }\n",
              "    80% {\n",
              "      border-color: transparent;\n",
              "      border-right-color: var(--fill-color);\n",
              "      border-bottom-color: var(--fill-color);\n",
              "    }\n",
              "    90% {\n",
              "      border-color: transparent;\n",
              "      border-bottom-color: var(--fill-color);\n",
              "    }\n",
              "  }\n",
              "</style>\n",
              "\n",
              "  <script>\n",
              "    async function quickchart(key) {\n",
              "      const quickchartButtonEl =\n",
              "        document.querySelector('#' + key + ' button');\n",
              "      quickchartButtonEl.disabled = true;  // To prevent multiple clicks.\n",
              "      quickchartButtonEl.classList.add('colab-df-spinner');\n",
              "      try {\n",
              "        const charts = await google.colab.kernel.invokeFunction(\n",
              "            'suggestCharts', [key], {});\n",
              "      } catch (error) {\n",
              "        console.error('Error during call to suggestCharts:', error);\n",
              "      }\n",
              "      quickchartButtonEl.classList.remove('colab-df-spinner');\n",
              "      quickchartButtonEl.classList.add('colab-df-quickchart-complete');\n",
              "    }\n",
              "    (() => {\n",
              "      let quickchartButtonEl =\n",
              "        document.querySelector('#df-6df3a87b-ad87-4657-8e7c-4e76c09c6dcc button');\n",
              "      quickchartButtonEl.style.display =\n",
              "        google.colab.kernel.accessAllowed ? 'block' : 'none';\n",
              "    })();\n",
              "  </script>\n",
              "</div>\n",
              "    </div>\n",
              "  </div>\n"
            ]
          },
          "metadata": {},
          "execution_count": 8
        }
      ],
      "source": [
        "# load the latitude and longitude of all wissels\n",
        "gps_wissels_df = pd.read_csv(path + '/gps_info.csv', sep=';')\n",
        "print(f'In total, {gps_wissels_df.shape[0]} wissels with info of {gps_wissels_df.columns.tolist()}')\n",
        "\n",
        "def to_decimal_degree_lat(coordinate):\n",
        "    str_seq = str(coordinate).replace('.', '')\n",
        "    num_seq = float(str_seq)\n",
        "    return num_seq / 10**(len(str_seq) - 2)\n",
        "\n",
        "def to_decimal_degree_lon(coordinate):\n",
        "    str_seq = str(coordinate).replace('.', '')\n",
        "    num_seq = float(str_seq)\n",
        "    return num_seq / 10**(len(str_seq) - 1)\n",
        "\n",
        "gps_wissels_df['latitude'] = gps_wissels_df['latitude'].apply(to_decimal_degree_lat)\n",
        "gps_wissels_df['longitude'] = gps_wissels_df['longitude'].apply(to_decimal_degree_lon)\n",
        "\n",
        "speed_df = speed_df.merge(right=gps_wissels_df,\n",
        "                                    # on='Wissel Nr'\n",
        "                                    left_on='wissel_number', right_on='Wissel Nr',\n",
        "                                    # how='left'\n",
        "                                   )\n",
        "speed_df = speed_df.dropna()\n",
        "print(f\"Joined dataset shape : {speed_df.shape}\")\n",
        "print(\"Joined dataset columns:\\n\", speed_df.columns.to_list())\n",
        "speed_df.head()"
      ],
      "id": "6b50bc5c-0c72-4f61-9504-751826e57b57"
    },
    {
      "cell_type": "markdown",
      "metadata": {
        "id": "c5ca2b09-e4b4-4f3c-9ffd-45f47a969a44"
      },
      "source": [
        "## `Get over-speed data`"
      ],
      "id": "c5ca2b09-e4b4-4f3c-9ffd-45f47a969a44"
    },
    {
      "cell_type": "code",
      "execution_count": 9,
      "metadata": {
        "colab": {
          "base_uri": "https://localhost:8080/"
        },
        "id": "1f16702c-50f4-430a-b7b1-a7cabe199718",
        "outputId": "ecdd62bf-1e8f-45a7-afb4-64ab60de8861"
      },
      "outputs": [
        {
          "output_type": "stream",
          "name": "stderr",
          "text": [
            "<ipython-input-9-6fae27109660>:8: SettingWithCopyWarning: \n",
            "A value is trying to be set on a copy of a slice from a DataFrame.\n",
            "Try using .loc[row_indexer,col_indexer] = value instead\n",
            "\n",
            "See the caveats in the documentation: https://pandas.pydata.org/pandas-docs/stable/user_guide/indexing.html#returning-a-view-versus-a-copy\n",
            "  overspeed_straight_df['difference'] = overspeed_straight_df['speed'] - speedLimit_straight\n",
            "<ipython-input-9-6fae27109660>:14: SettingWithCopyWarning: \n",
            "A value is trying to be set on a copy of a slice from a DataFrame.\n",
            "Try using .loc[row_indexer,col_indexer] = value instead\n",
            "\n",
            "See the caveats in the documentation: https://pandas.pydata.org/pandas-docs/stable/user_guide/indexing.html#returning-a-view-versus-a-copy\n",
            "  overspeed_turning_df['difference'] = overspeed_turning_df['speed'] - speedLimit_turning\n"
          ]
        },
        {
          "output_type": "stream",
          "name": "stdout",
          "text": [
            "Size of the full over-speed dataset: 3485154 samples.\n",
            "Size of straight over-speed dataset: 2432490 samples.\n",
            "Size of turning  over-speed dataset: 1052664 samples.\n"
          ]
        }
      ],
      "source": [
        "speedLimit_straight = 15 # km/h\n",
        "speedLimit_turning  = 15 # km/h\n",
        "\n",
        "overspeed_straight_df = speed_df[\n",
        "    (speed_df['is_straight'] == True) & (speed_df['speed'] >= speedLimit_straight)\n",
        "]\n",
        "# overspeed_straight_df['difference'] = 0\n",
        "overspeed_straight_df['difference'] = overspeed_straight_df['speed'] - speedLimit_straight\n",
        "\n",
        "overspeed_turning_df = speed_df[\n",
        "    (speed_df['is_straight'] == False) & (speed_df['speed'] >= speedLimit_turning)\n",
        "]\n",
        "# overspeed_turning_df['difference'] = 0\n",
        "overspeed_turning_df['difference'] = overspeed_turning_df['speed'] - speedLimit_turning\n",
        "\n",
        "overspeed_df = pd.concat([overspeed_straight_df, overspeed_turning_df])\n",
        "assert len(overspeed_df) == len(overspeed_straight_df) + len(overspeed_turning_df)\n",
        "print(f\"Size of the full over-speed dataset: {len(overspeed_df)} samples.\")\n",
        "print(f\"Size of straight over-speed dataset: {len(overspeed_straight_df)} samples.\")\n",
        "print(f\"Size of turning  over-speed dataset: {len(overspeed_turning_df)} samples.\")"
      ],
      "id": "1f16702c-50f4-430a-b7b1-a7cabe199718"
    },
    {
      "cell_type": "code",
      "execution_count": 10,
      "metadata": {
        "colab": {
          "base_uri": "https://localhost:8080/",
          "height": 233
        },
        "id": "f3066550-f704-412a-aee0-d237d96a6e06",
        "outputId": "f2bbaf87-976f-4006-c07a-b220f5a34f3f"
      },
      "outputs": [
        {
          "output_type": "execute_result",
          "data": {
            "text/plain": [
              "   line  vehicle category wissel_number   direction                  hfk_in  \\\n",
              "0    11     5008      0.0          W003  Recht door 2023-01-01 08:52:44.340   \n",
              "1    11     5022      0.0          W003  Recht door 2023-01-01 09:11:48.060   \n",
              "2    11     5038      0.0          W003  Recht door 2023-01-01 09:31:47.460   \n",
              "\n",
              "                  hfk_uit  speed               duration  is_straight  year  \\\n",
              "0 2023-01-01 08:52:50.980     19 0 days 00:00:06.640000         True  2023   \n",
              "1 2023-01-01 09:11:54.820     19 0 days 00:00:06.760000         True  2023   \n",
              "2 2023-01-01 09:31:54.630     18 0 days 00:00:07.170000         True  2023   \n",
              "\n",
              "   month  day  hour  minute Wissel Nr   latitude  longitude  difference  \n",
              "0      1    1     8      52      W003  52.101527   4.274058           4  \n",
              "1      1    1     9      11      W003  52.101527   4.274058           4  \n",
              "2      1    1     9      31      W003  52.101527   4.274058           3  "
            ],
            "text/html": [
              "\n",
              "  <div id=\"df-1d873c8c-23e5-4ca4-95d0-14f3a81a405d\" class=\"colab-df-container\">\n",
              "    <div>\n",
              "<style scoped>\n",
              "    .dataframe tbody tr th:only-of-type {\n",
              "        vertical-align: middle;\n",
              "    }\n",
              "\n",
              "    .dataframe tbody tr th {\n",
              "        vertical-align: top;\n",
              "    }\n",
              "\n",
              "    .dataframe thead th {\n",
              "        text-align: right;\n",
              "    }\n",
              "</style>\n",
              "<table border=\"1\" class=\"dataframe\">\n",
              "  <thead>\n",
              "    <tr style=\"text-align: right;\">\n",
              "      <th></th>\n",
              "      <th>line</th>\n",
              "      <th>vehicle</th>\n",
              "      <th>category</th>\n",
              "      <th>wissel_number</th>\n",
              "      <th>direction</th>\n",
              "      <th>hfk_in</th>\n",
              "      <th>hfk_uit</th>\n",
              "      <th>speed</th>\n",
              "      <th>duration</th>\n",
              "      <th>is_straight</th>\n",
              "      <th>year</th>\n",
              "      <th>month</th>\n",
              "      <th>day</th>\n",
              "      <th>hour</th>\n",
              "      <th>minute</th>\n",
              "      <th>Wissel Nr</th>\n",
              "      <th>latitude</th>\n",
              "      <th>longitude</th>\n",
              "      <th>difference</th>\n",
              "    </tr>\n",
              "  </thead>\n",
              "  <tbody>\n",
              "    <tr>\n",
              "      <th>0</th>\n",
              "      <td>11</td>\n",
              "      <td>5008</td>\n",
              "      <td>0.0</td>\n",
              "      <td>W003</td>\n",
              "      <td>Recht door</td>\n",
              "      <td>2023-01-01 08:52:44.340</td>\n",
              "      <td>2023-01-01 08:52:50.980</td>\n",
              "      <td>19</td>\n",
              "      <td>0 days 00:00:06.640000</td>\n",
              "      <td>True</td>\n",
              "      <td>2023</td>\n",
              "      <td>1</td>\n",
              "      <td>1</td>\n",
              "      <td>8</td>\n",
              "      <td>52</td>\n",
              "      <td>W003</td>\n",
              "      <td>52.101527</td>\n",
              "      <td>4.274058</td>\n",
              "      <td>4</td>\n",
              "    </tr>\n",
              "    <tr>\n",
              "      <th>1</th>\n",
              "      <td>11</td>\n",
              "      <td>5022</td>\n",
              "      <td>0.0</td>\n",
              "      <td>W003</td>\n",
              "      <td>Recht door</td>\n",
              "      <td>2023-01-01 09:11:48.060</td>\n",
              "      <td>2023-01-01 09:11:54.820</td>\n",
              "      <td>19</td>\n",
              "      <td>0 days 00:00:06.760000</td>\n",
              "      <td>True</td>\n",
              "      <td>2023</td>\n",
              "      <td>1</td>\n",
              "      <td>1</td>\n",
              "      <td>9</td>\n",
              "      <td>11</td>\n",
              "      <td>W003</td>\n",
              "      <td>52.101527</td>\n",
              "      <td>4.274058</td>\n",
              "      <td>4</td>\n",
              "    </tr>\n",
              "    <tr>\n",
              "      <th>2</th>\n",
              "      <td>11</td>\n",
              "      <td>5038</td>\n",
              "      <td>0.0</td>\n",
              "      <td>W003</td>\n",
              "      <td>Recht door</td>\n",
              "      <td>2023-01-01 09:31:47.460</td>\n",
              "      <td>2023-01-01 09:31:54.630</td>\n",
              "      <td>18</td>\n",
              "      <td>0 days 00:00:07.170000</td>\n",
              "      <td>True</td>\n",
              "      <td>2023</td>\n",
              "      <td>1</td>\n",
              "      <td>1</td>\n",
              "      <td>9</td>\n",
              "      <td>31</td>\n",
              "      <td>W003</td>\n",
              "      <td>52.101527</td>\n",
              "      <td>4.274058</td>\n",
              "      <td>3</td>\n",
              "    </tr>\n",
              "  </tbody>\n",
              "</table>\n",
              "</div>\n",
              "    <div class=\"colab-df-buttons\">\n",
              "\n",
              "  <div class=\"colab-df-container\">\n",
              "    <button class=\"colab-df-convert\" onclick=\"convertToInteractive('df-1d873c8c-23e5-4ca4-95d0-14f3a81a405d')\"\n",
              "            title=\"Convert this dataframe to an interactive table.\"\n",
              "            style=\"display:none;\">\n",
              "\n",
              "  <svg xmlns=\"http://www.w3.org/2000/svg\" height=\"24px\" viewBox=\"0 -960 960 960\">\n",
              "    <path d=\"M120-120v-720h720v720H120Zm60-500h600v-160H180v160Zm220 220h160v-160H400v160Zm0 220h160v-160H400v160ZM180-400h160v-160H180v160Zm440 0h160v-160H620v160ZM180-180h160v-160H180v160Zm440 0h160v-160H620v160Z\"/>\n",
              "  </svg>\n",
              "    </button>\n",
              "\n",
              "  <style>\n",
              "    .colab-df-container {\n",
              "      display:flex;\n",
              "      gap: 12px;\n",
              "    }\n",
              "\n",
              "    .colab-df-convert {\n",
              "      background-color: #E8F0FE;\n",
              "      border: none;\n",
              "      border-radius: 50%;\n",
              "      cursor: pointer;\n",
              "      display: none;\n",
              "      fill: #1967D2;\n",
              "      height: 32px;\n",
              "      padding: 0 0 0 0;\n",
              "      width: 32px;\n",
              "    }\n",
              "\n",
              "    .colab-df-convert:hover {\n",
              "      background-color: #E2EBFA;\n",
              "      box-shadow: 0px 1px 2px rgba(60, 64, 67, 0.3), 0px 1px 3px 1px rgba(60, 64, 67, 0.15);\n",
              "      fill: #174EA6;\n",
              "    }\n",
              "\n",
              "    .colab-df-buttons div {\n",
              "      margin-bottom: 4px;\n",
              "    }\n",
              "\n",
              "    [theme=dark] .colab-df-convert {\n",
              "      background-color: #3B4455;\n",
              "      fill: #D2E3FC;\n",
              "    }\n",
              "\n",
              "    [theme=dark] .colab-df-convert:hover {\n",
              "      background-color: #434B5C;\n",
              "      box-shadow: 0px 1px 3px 1px rgba(0, 0, 0, 0.15);\n",
              "      filter: drop-shadow(0px 1px 2px rgba(0, 0, 0, 0.3));\n",
              "      fill: #FFFFFF;\n",
              "    }\n",
              "  </style>\n",
              "\n",
              "    <script>\n",
              "      const buttonEl =\n",
              "        document.querySelector('#df-1d873c8c-23e5-4ca4-95d0-14f3a81a405d button.colab-df-convert');\n",
              "      buttonEl.style.display =\n",
              "        google.colab.kernel.accessAllowed ? 'block' : 'none';\n",
              "\n",
              "      async function convertToInteractive(key) {\n",
              "        const element = document.querySelector('#df-1d873c8c-23e5-4ca4-95d0-14f3a81a405d');\n",
              "        const dataTable =\n",
              "          await google.colab.kernel.invokeFunction('convertToInteractive',\n",
              "                                                    [key], {});\n",
              "        if (!dataTable) return;\n",
              "\n",
              "        const docLinkHtml = 'Like what you see? Visit the ' +\n",
              "          '<a target=\"_blank\" href=https://colab.research.google.com/notebooks/data_table.ipynb>data table notebook</a>'\n",
              "          + ' to learn more about interactive tables.';\n",
              "        element.innerHTML = '';\n",
              "        dataTable['output_type'] = 'display_data';\n",
              "        await google.colab.output.renderOutput(dataTable, element);\n",
              "        const docLink = document.createElement('div');\n",
              "        docLink.innerHTML = docLinkHtml;\n",
              "        element.appendChild(docLink);\n",
              "      }\n",
              "    </script>\n",
              "  </div>\n",
              "\n",
              "\n",
              "<div id=\"df-34796ea0-e323-4f80-b328-0c2fb05e33b0\">\n",
              "  <button class=\"colab-df-quickchart\" onclick=\"quickchart('df-34796ea0-e323-4f80-b328-0c2fb05e33b0')\"\n",
              "            title=\"Suggest charts\"\n",
              "            style=\"display:none;\">\n",
              "\n",
              "<svg xmlns=\"http://www.w3.org/2000/svg\" height=\"24px\"viewBox=\"0 0 24 24\"\n",
              "     width=\"24px\">\n",
              "    <g>\n",
              "        <path d=\"M19 3H5c-1.1 0-2 .9-2 2v14c0 1.1.9 2 2 2h14c1.1 0 2-.9 2-2V5c0-1.1-.9-2-2-2zM9 17H7v-7h2v7zm4 0h-2V7h2v10zm4 0h-2v-4h2v4z\"/>\n",
              "    </g>\n",
              "</svg>\n",
              "  </button>\n",
              "\n",
              "<style>\n",
              "  .colab-df-quickchart {\n",
              "      --bg-color: #E8F0FE;\n",
              "      --fill-color: #1967D2;\n",
              "      --hover-bg-color: #E2EBFA;\n",
              "      --hover-fill-color: #174EA6;\n",
              "      --disabled-fill-color: #AAA;\n",
              "      --disabled-bg-color: #DDD;\n",
              "  }\n",
              "\n",
              "  [theme=dark] .colab-df-quickchart {\n",
              "      --bg-color: #3B4455;\n",
              "      --fill-color: #D2E3FC;\n",
              "      --hover-bg-color: #434B5C;\n",
              "      --hover-fill-color: #FFFFFF;\n",
              "      --disabled-bg-color: #3B4455;\n",
              "      --disabled-fill-color: #666;\n",
              "  }\n",
              "\n",
              "  .colab-df-quickchart {\n",
              "    background-color: var(--bg-color);\n",
              "    border: none;\n",
              "    border-radius: 50%;\n",
              "    cursor: pointer;\n",
              "    display: none;\n",
              "    fill: var(--fill-color);\n",
              "    height: 32px;\n",
              "    padding: 0;\n",
              "    width: 32px;\n",
              "  }\n",
              "\n",
              "  .colab-df-quickchart:hover {\n",
              "    background-color: var(--hover-bg-color);\n",
              "    box-shadow: 0 1px 2px rgba(60, 64, 67, 0.3), 0 1px 3px 1px rgba(60, 64, 67, 0.15);\n",
              "    fill: var(--button-hover-fill-color);\n",
              "  }\n",
              "\n",
              "  .colab-df-quickchart-complete:disabled,\n",
              "  .colab-df-quickchart-complete:disabled:hover {\n",
              "    background-color: var(--disabled-bg-color);\n",
              "    fill: var(--disabled-fill-color);\n",
              "    box-shadow: none;\n",
              "  }\n",
              "\n",
              "  .colab-df-spinner {\n",
              "    border: 2px solid var(--fill-color);\n",
              "    border-color: transparent;\n",
              "    border-bottom-color: var(--fill-color);\n",
              "    animation:\n",
              "      spin 1s steps(1) infinite;\n",
              "  }\n",
              "\n",
              "  @keyframes spin {\n",
              "    0% {\n",
              "      border-color: transparent;\n",
              "      border-bottom-color: var(--fill-color);\n",
              "      border-left-color: var(--fill-color);\n",
              "    }\n",
              "    20% {\n",
              "      border-color: transparent;\n",
              "      border-left-color: var(--fill-color);\n",
              "      border-top-color: var(--fill-color);\n",
              "    }\n",
              "    30% {\n",
              "      border-color: transparent;\n",
              "      border-left-color: var(--fill-color);\n",
              "      border-top-color: var(--fill-color);\n",
              "      border-right-color: var(--fill-color);\n",
              "    }\n",
              "    40% {\n",
              "      border-color: transparent;\n",
              "      border-right-color: var(--fill-color);\n",
              "      border-top-color: var(--fill-color);\n",
              "    }\n",
              "    60% {\n",
              "      border-color: transparent;\n",
              "      border-right-color: var(--fill-color);\n",
              "    }\n",
              "    80% {\n",
              "      border-color: transparent;\n",
              "      border-right-color: var(--fill-color);\n",
              "      border-bottom-color: var(--fill-color);\n",
              "    }\n",
              "    90% {\n",
              "      border-color: transparent;\n",
              "      border-bottom-color: var(--fill-color);\n",
              "    }\n",
              "  }\n",
              "</style>\n",
              "\n",
              "  <script>\n",
              "    async function quickchart(key) {\n",
              "      const quickchartButtonEl =\n",
              "        document.querySelector('#' + key + ' button');\n",
              "      quickchartButtonEl.disabled = true;  // To prevent multiple clicks.\n",
              "      quickchartButtonEl.classList.add('colab-df-spinner');\n",
              "      try {\n",
              "        const charts = await google.colab.kernel.invokeFunction(\n",
              "            'suggestCharts', [key], {});\n",
              "      } catch (error) {\n",
              "        console.error('Error during call to suggestCharts:', error);\n",
              "      }\n",
              "      quickchartButtonEl.classList.remove('colab-df-spinner');\n",
              "      quickchartButtonEl.classList.add('colab-df-quickchart-complete');\n",
              "    }\n",
              "    (() => {\n",
              "      let quickchartButtonEl =\n",
              "        document.querySelector('#df-34796ea0-e323-4f80-b328-0c2fb05e33b0 button');\n",
              "      quickchartButtonEl.style.display =\n",
              "        google.colab.kernel.accessAllowed ? 'block' : 'none';\n",
              "    })();\n",
              "  </script>\n",
              "</div>\n",
              "    </div>\n",
              "  </div>\n"
            ]
          },
          "metadata": {},
          "execution_count": 10
        }
      ],
      "source": [
        "overspeed_df.head(3)"
      ],
      "id": "f3066550-f704-412a-aee0-d237d96a6e06"
    },
    {
      "cell_type": "markdown",
      "metadata": {
        "id": "397d6270-923f-4102-ba23-88e0baa99915"
      },
      "source": [
        "# Data analysis"
      ],
      "id": "397d6270-923f-4102-ba23-88e0baa99915"
    },
    {
      "cell_type": "markdown",
      "metadata": {
        "id": "4c242fb0-ca6d-4322-962e-a7fb1a1cac8f"
      },
      "source": [
        "## Descriptive statistics"
      ],
      "id": "4c242fb0-ca6d-4322-962e-a7fb1a1cac8f"
    },
    {
      "cell_type": "code",
      "execution_count": 11,
      "metadata": {
        "colab": {
          "base_uri": "https://localhost:8080/"
        },
        "id": "d4012511-cedb-4c84-bfcb-41423de462af",
        "outputId": "c0370b1a-4102-45d5-e8b8-cc18ffb1004a"
      },
      "outputs": [
        {
          "output_type": "execute_result",
          "data": {
            "text/plain": [
              "0          19\n",
              "1          19\n",
              "2          18\n",
              "3          18\n",
              "4          16\n",
              "           ..\n",
              "5098233    16\n",
              "5098234    16\n",
              "5098235    19\n",
              "5098239    15\n",
              "5098261    18\n",
              "Name: speed, Length: 3485154, dtype: int32"
            ]
          },
          "metadata": {},
          "execution_count": 11
        }
      ],
      "source": [
        "overspeed_df['speed']"
      ],
      "id": "d4012511-cedb-4c84-bfcb-41423de462af"
    },
    {
      "cell_type": "code",
      "source": [
        "overspeed_df[\"speed\"].unique().shape"
      ],
      "metadata": {
        "colab": {
          "base_uri": "https://localhost:8080/"
        },
        "id": "baYvXuTAnVa7",
        "outputId": "08270cf5-382a-4d31-825b-328b12b14695"
      },
      "id": "baYvXuTAnVa7",
      "execution_count": 12,
      "outputs": [
        {
          "output_type": "execute_result",
          "data": {
            "text/plain": [
              "(35,)"
            ]
          },
          "metadata": {},
          "execution_count": 12
        }
      ]
    },
    {
      "cell_type": "code",
      "execution_count": 13,
      "metadata": {
        "colab": {
          "base_uri": "https://localhost:8080/",
          "height": 967
        },
        "id": "199a844f-7e1e-4453-8772-3bcac22c65a1",
        "outputId": "3f98dcfe-3a8f-4c50-9de5-e1153f1f7de0"
      },
      "outputs": [
        {
          "output_type": "display_data",
          "data": {
            "text/plain": [
              "<Figure size 500x500 with 1 Axes>"
            ],
            "image/png": "[encoded data removed]"
          },
          "metadata": {}
        },
        {
          "output_type": "display_data",
          "data": {
            "text/plain": [
              "<Figure size 500x500 with 1 Axes>"
            ],
            "image/png": "[encoded data removed]"
          },
          "metadata": {}
        }
      ],
      "source": [
        "plt.figure(figsize=(5, 5))\n",
        "fig = sb.histplot(\n",
        "    data=overspeed_df,\n",
        "    x='speed',\n",
        "    bins=35,\n",
        ")\n",
        "\n",
        "# fig.set_yscale(\"log\")\n",
        "plt.title(\"The distribution of tram speed\")\n",
        "plt.ylabel('Counts')\n",
        "plt.xlabel('Tram speed')\n",
        "plt.show()\n",
        "\n",
        "plt.figure(figsize=(5, 5))\n",
        "fig = sb.histplot(\n",
        "    data=overspeed_df,\n",
        "    x='speed',\n",
        "    bins=35,\n",
        ")\n",
        "fig.set_yscale(\"log\")\n",
        "\n",
        "# fig.set_yscale(\"log\")\n",
        "plt.title(\"The distribution of tram speed (log-scale)\")\n",
        "plt.ylabel('Counts')\n",
        "plt.xlabel('Tram speed')\n",
        "plt.show()"
      ],
      "id": "199a844f-7e1e-4453-8772-3bcac22c65a1"
    },
    {
      "cell_type": "code",
      "execution_count": 14,
      "metadata": {
        "colab": {
          "base_uri": "https://localhost:8080/"
        },
        "id": "204a668c-e37c-472d-8c4a-d2d112d39e39",
        "outputId": "1f0ced22-6a44-4718-c17f-9d18b4a191d9"
      },
      "outputs": [
        {
          "output_type": "execute_result",
          "data": {
            "text/plain": [
              "count    2.432490e+06\n",
              "mean     1.792407e+01\n",
              "std      2.769189e+00\n",
              "min      1.500000e+01\n",
              "25%      1.600000e+01\n",
              "50%      1.700000e+01\n",
              "75%      1.900000e+01\n",
              "max      4.900000e+01\n",
              "Name: speed, dtype: float64"
            ]
          },
          "metadata": {},
          "execution_count": 14
        }
      ],
      "source": [
        "overspeed_straight_df['speed'].describe()"
      ],
      "id": "204a668c-e37c-472d-8c4a-d2d112d39e39"
    },
    {
      "cell_type": "code",
      "execution_count": 15,
      "metadata": {
        "colab": {
          "base_uri": "https://localhost:8080/"
        },
        "id": "a86b3715-1dca-4e95-8d5c-00dc80f3e772",
        "outputId": "9e3519fb-970d-4b6b-f50a-1b1b773e769e"
      },
      "outputs": [
        {
          "output_type": "execute_result",
          "data": {
            "text/plain": [
              "count    1.052664e+06\n",
              "mean     1.665099e+01\n",
              "std      1.708704e+00\n",
              "min      1.500000e+01\n",
              "25%      1.500000e+01\n",
              "50%      1.600000e+01\n",
              "75%      1.800000e+01\n",
              "max      4.900000e+01\n",
              "Name: speed, dtype: float64"
            ]
          },
          "metadata": {},
          "execution_count": 15
        }
      ],
      "source": [
        "overspeed_turning_df['speed'].describe()"
      ],
      "id": "a86b3715-1dca-4e95-8d5c-00dc80f3e772"
    },
    {
      "cell_type": "code",
      "execution_count": 16,
      "metadata": {
        "colab": {
          "base_uri": "https://localhost:8080/",
          "height": 967
        },
        "id": "353316b4-58d8-43b8-9d84-6fcbc3e41b1d",
        "outputId": "8e1382b6-2547-4f48-8e99-c7fcb9b62cfe"
      },
      "outputs": [
        {
          "output_type": "display_data",
          "data": {
            "text/plain": [
              "<Figure size 500x500 with 1 Axes>"
            ],
            "image/png": "[encoded data removed]"
          },
          "metadata": {}
        },
        {
          "output_type": "display_data",
          "data": {
            "text/plain": [
              "<Figure size 500x500 with 1 Axes>"
            ],
            "image/png": "[encoded data removed]"
          },
          "metadata": {}
        }
      ],
      "source": [
        "plt.figure(figsize=(5, 5))\n",
        "fig = sb.histplot(\n",
        "    data=overspeed_df,\n",
        "    x='speed',\n",
        "    hue='is_straight',\n",
        "    bins=35,\n",
        ")\n",
        "\n",
        "# fig.set_yscale(\"log\")\n",
        "plt.title(\"The distribution of tram speed\")\n",
        "plt.ylabel('Counts')\n",
        "plt.xlabel('Tram speed')\n",
        "plt.show()\n",
        "\n",
        "plt.figure(figsize=(5, 5))\n",
        "fig = sb.histplot(\n",
        "    data=overspeed_df,\n",
        "    x='speed',\n",
        "    hue='is_straight',\n",
        "    bins=35,\n",
        ")\n",
        "fig.set_yscale(\"log\")\n",
        "\n",
        "# fig.set_yscale(\"log\")\n",
        "plt.title(\"The distribution of tram speed (log-scale)\")\n",
        "plt.ylabel('Counts')\n",
        "plt.xlabel('Tram speed')\n",
        "plt.show()"
      ],
      "id": "353316b4-58d8-43b8-9d84-6fcbc3e41b1d"
    },
    {
      "cell_type": "markdown",
      "metadata": {
        "id": "0483d346-1442-4294-9fc6-c07f4f9f7eef"
      },
      "source": [
        "## Cluster analysis (severity-based)"
      ],
      "id": "0483d346-1442-4294-9fc6-c07f4f9f7eef"
    },
    {
      "cell_type": "markdown",
      "metadata": {
        "id": "06fb5bac-9268-41d9-a914-c31ff5c187ca"
      },
      "source": [
        "### Elbow method"
      ],
      "id": "06fb5bac-9268-41d9-a914-c31ff5c187ca"
    },
    {
      "cell_type": "code",
      "execution_count": 17,
      "metadata": {
        "colab": {
          "base_uri": "https://localhost:8080/",
          "height": 330
        },
        "id": "EGtp4eA1YDJe",
        "outputId": "57e57734-4262-4df0-db75-486d756db52c"
      },
      "outputs": [
        {
          "output_type": "execute_result",
          "data": {
            "text/plain": [
              "   line  vehicle category wissel_number   direction                  hfk_in  \\\n",
              "0    11     5008      0.0          W003  Recht door 2023-01-01 08:52:44.340   \n",
              "1    11     5022      0.0          W003  Recht door 2023-01-01 09:11:48.060   \n",
              "2    11     5038      0.0          W003  Recht door 2023-01-01 09:31:47.460   \n",
              "3    11     5008      0.0          W003  Recht door 2023-01-01 09:51:16.150   \n",
              "4    11     5022      0.0          W003  Recht door 2023-01-01 10:11:25.480   \n",
              "\n",
              "                  hfk_uit  speed               duration  is_straight  year  \\\n",
              "0 2023-01-01 08:52:50.980     19 0 days 00:00:06.640000         True  2023   \n",
              "1 2023-01-01 09:11:54.820     19 0 days 00:00:06.760000         True  2023   \n",
              "2 2023-01-01 09:31:54.630     18 0 days 00:00:07.170000         True  2023   \n",
              "3 2023-01-01 09:51:23.030     18 0 days 00:00:06.880000         True  2023   \n",
              "4 2023-01-01 10:11:33.440     16 0 days 00:00:07.960000         True  2023   \n",
              "\n",
              "   month  day  hour  minute Wissel Nr   latitude  longitude  difference  \n",
              "0      1    1     8      52      W003  52.101527   4.274058           4  \n",
              "1      1    1     9      11      W003  52.101527   4.274058           4  \n",
              "2      1    1     9      31      W003  52.101527   4.274058           3  \n",
              "3      1    1     9      51      W003  52.101527   4.274058           3  \n",
              "4      1    1    10      11      W003  52.101527   4.274058           1  "
            ],
            "text/html": [
              "\n",
              "  <div id=\"df-b8837cfb-1c7f-417f-8637-205b929887dd\" class=\"colab-df-container\">\n",
              "    <div>\n",
              "<style scoped>\n",
              "    .dataframe tbody tr th:only-of-type {\n",
              "        vertical-align: middle;\n",
              "    }\n",
              "\n",
              "    .dataframe tbody tr th {\n",
              "        vertical-align: top;\n",
              "    }\n",
              "\n",
              "    .dataframe thead th {\n",
              "        text-align: right;\n",
              "    }\n",
              "</style>\n",
              "<table border=\"1\" class=\"dataframe\">\n",
              "  <thead>\n",
              "    <tr style=\"text-align: right;\">\n",
              "      <th></th>\n",
              "      <th>line</th>\n",
              "      <th>vehicle</th>\n",
              "      <th>category</th>\n",
              "      <th>wissel_number</th>\n",
              "      <th>direction</th>\n",
              "      <th>hfk_in</th>\n",
              "      <th>hfk_uit</th>\n",
              "      <th>speed</th>\n",
              "      <th>duration</th>\n",
              "      <th>is_straight</th>\n",
              "      <th>year</th>\n",
              "      <th>month</th>\n",
              "      <th>day</th>\n",
              "      <th>hour</th>\n",
              "      <th>minute</th>\n",
              "      <th>Wissel Nr</th>\n",
              "      <th>latitude</th>\n",
              "      <th>longitude</th>\n",
              "      <th>difference</th>\n",
              "    </tr>\n",
              "  </thead>\n",
              "  <tbody>\n",
              "    <tr>\n",
              "      <th>0</th>\n",
              "      <td>11</td>\n",
              "      <td>5008</td>\n",
              "      <td>0.0</td>\n",
              "      <td>W003</td>\n",
              "      <td>Recht door</td>\n",
              "      <td>2023-01-01 08:52:44.340</td>\n",
              "      <td>2023-01-01 08:52:50.980</td>\n",
              "      <td>19</td>\n",
              "      <td>0 days 00:00:06.640000</td>\n",
              "      <td>True</td>\n",
              "      <td>2023</td>\n",
              "      <td>1</td>\n",
              "      <td>1</td>\n",
              "      <td>8</td>\n",
              "      <td>52</td>\n",
              "      <td>W003</td>\n",
              "      <td>52.101527</td>\n",
              "      <td>4.274058</td>\n",
              "      <td>4</td>\n",
              "    </tr>\n",
              "    <tr>\n",
              "      <th>1</th>\n",
              "      <td>11</td>\n",
              "      <td>5022</td>\n",
              "      <td>0.0</td>\n",
              "      <td>W003</td>\n",
              "      <td>Recht door</td>\n",
              "      <td>2023-01-01 09:11:48.060</td>\n",
              "      <td>2023-01-01 09:11:54.820</td>\n",
              "      <td>19</td>\n",
              "      <td>0 days 00:00:06.760000</td>\n",
              "      <td>True</td>\n",
              "      <td>2023</td>\n",
              "      <td>1</td>\n",
              "      <td>1</td>\n",
              "      <td>9</td>\n",
              "      <td>11</td>\n",
              "      <td>W003</td>\n",
              "      <td>52.101527</td>\n",
              "      <td>4.274058</td>\n",
              "      <td>4</td>\n",
              "    </tr>\n",
              "    <tr>\n",
              "      <th>2</th>\n",
              "      <td>11</td>\n",
              "      <td>5038</td>\n",
              "      <td>0.0</td>\n",
              "      <td>W003</td>\n",
              "      <td>Recht door</td>\n",
              "      <td>2023-01-01 09:31:47.460</td>\n",
              "      <td>2023-01-01 09:31:54.630</td>\n",
              "      <td>18</td>\n",
              "      <td>0 days 00:00:07.170000</td>\n",
              "      <td>True</td>\n",
              "      <td>2023</td>\n",
              "      <td>1</td>\n",
              "      <td>1</td>\n",
              "      <td>9</td>\n",
              "      <td>31</td>\n",
              "      <td>W003</td>\n",
              "      <td>52.101527</td>\n",
              "      <td>4.274058</td>\n",
              "      <td>3</td>\n",
              "    </tr>\n",
              "    <tr>\n",
              "      <th>3</th>\n",
              "      <td>11</td>\n",
              "      <td>5008</td>\n",
              "      <td>0.0</td>\n",
              "      <td>W003</td>\n",
              "      <td>Recht door</td>\n",
              "      <td>2023-01-01 09:51:16.150</td>\n",
              "      <td>2023-01-01 09:51:23.030</td>\n",
              "      <td>18</td>\n",
              "      <td>0 days 00:00:06.880000</td>\n",
              "      <td>True</td>\n",
              "      <td>2023</td>\n",
              "      <td>1</td>\n",
              "      <td>1</td>\n",
              "      <td>9</td>\n",
              "      <td>51</td>\n",
              "      <td>W003</td>\n",
              "      <td>52.101527</td>\n",
              "      <td>4.274058</td>\n",
              "      <td>3</td>\n",
              "    </tr>\n",
              "    <tr>\n",
              "      <th>4</th>\n",
              "      <td>11</td>\n",
              "      <td>5022</td>\n",
              "      <td>0.0</td>\n",
              "      <td>W003</td>\n",
              "      <td>Recht door</td>\n",
              "      <td>2023-01-01 10:11:25.480</td>\n",
              "      <td>2023-01-01 10:11:33.440</td>\n",
              "      <td>16</td>\n",
              "      <td>0 days 00:00:07.960000</td>\n",
              "      <td>True</td>\n",
              "      <td>2023</td>\n",
              "      <td>1</td>\n",
              "      <td>1</td>\n",
              "      <td>10</td>\n",
              "      <td>11</td>\n",
              "      <td>W003</td>\n",
              "      <td>52.101527</td>\n",
              "      <td>4.274058</td>\n",
              "      <td>1</td>\n",
              "    </tr>\n",
              "  </tbody>\n",
              "</table>\n",
              "</div>\n",
              "    <div class=\"colab-df-buttons\">\n",
              "\n",
              "  <div class=\"colab-df-container\">\n",
              "    <button class=\"colab-df-convert\" onclick=\"convertToInteractive('df-b8837cfb-1c7f-417f-8637-205b929887dd')\"\n",
              "            title=\"Convert this dataframe to an interactive table.\"\n",
              "            style=\"display:none;\">\n",
              "\n",
              "  <svg xmlns=\"http://www.w3.org/2000/svg\" height=\"24px\" viewBox=\"0 -960 960 960\">\n",
              "    <path d=\"M120-120v-720h720v720H120Zm60-500h600v-160H180v160Zm220 220h160v-160H400v160Zm0 220h160v-160H400v160ZM180-400h160v-160H180v160Zm440 0h160v-160H620v160ZM180-180h160v-160H180v160Zm440 0h160v-160H620v160Z\"/>\n",
              "  </svg>\n",
              "    </button>\n",
              "\n",
              "  <style>\n",
              "    .colab-df-container {\n",
              "      display:flex;\n",
              "      gap: 12px;\n",
              "    }\n",
              "\n",
              "    .colab-df-convert {\n",
              "      background-color: #E8F0FE;\n",
              "      border: none;\n",
              "      border-radius: 50%;\n",
              "      cursor: pointer;\n",
              "      display: none;\n",
              "      fill: #1967D2;\n",
              "      height: 32px;\n",
              "      padding: 0 0 0 0;\n",
              "      width: 32px;\n",
              "    }\n",
              "\n",
              "    .colab-df-convert:hover {\n",
              "      background-color: #E2EBFA;\n",
              "      box-shadow: 0px 1px 2px rgba(60, 64, 67, 0.3), 0px 1px 3px 1px rgba(60, 64, 67, 0.15);\n",
              "      fill: #174EA6;\n",
              "    }\n",
              "\n",
              "    .colab-df-buttons div {\n",
              "      margin-bottom: 4px;\n",
              "    }\n",
              "\n",
              "    [theme=dark] .colab-df-convert {\n",
              "      background-color: #3B4455;\n",
              "      fill: #D2E3FC;\n",
              "    }\n",
              "\n",
              "    [theme=dark] .colab-df-convert:hover {\n",
              "      background-color: #434B5C;\n",
              "      box-shadow: 0px 1px 3px 1px rgba(0, 0, 0, 0.15);\n",
              "      filter: drop-shadow(0px 1px 2px rgba(0, 0, 0, 0.3));\n",
              "      fill: #FFFFFF;\n",
              "    }\n",
              "  </style>\n",
              "\n",
              "    <script>\n",
              "      const buttonEl =\n",
              "        document.querySelector('#df-b8837cfb-1c7f-417f-8637-205b929887dd button.colab-df-convert');\n",
              "      buttonEl.style.display =\n",
              "        google.colab.kernel.accessAllowed ? 'block' : 'none';\n",
              "\n",
              "      async function convertToInteractive(key) {\n",
              "        const element = document.querySelector('#df-b8837cfb-1c7f-417f-8637-205b929887dd');\n",
              "        const dataTable =\n",
              "          await google.colab.kernel.invokeFunction('convertToInteractive',\n",
              "                                                    [key], {});\n",
              "        if (!dataTable) return;\n",
              "\n",
              "        const docLinkHtml = 'Like what you see? Visit the ' +\n",
              "          '<a target=\"_blank\" href=https://colab.research.google.com/notebooks/data_table.ipynb>data table notebook</a>'\n",
              "          + ' to learn more about interactive tables.';\n",
              "        element.innerHTML = '';\n",
              "        dataTable['output_type'] = 'display_data';\n",
              "        await google.colab.output.renderOutput(dataTable, element);\n",
              "        const docLink = document.createElement('div');\n",
              "        docLink.innerHTML = docLinkHtml;\n",
              "        element.appendChild(docLink);\n",
              "      }\n",
              "    </script>\n",
              "  </div>\n",
              "\n",
              "\n",
              "<div id=\"df-c9e8193b-3603-4424-88e4-fb74a9691833\">\n",
              "  <button class=\"colab-df-quickchart\" onclick=\"quickchart('df-c9e8193b-3603-4424-88e4-fb74a9691833')\"\n",
              "            title=\"Suggest charts\"\n",
              "            style=\"display:none;\">\n",
              "\n",
              "<svg xmlns=\"http://www.w3.org/2000/svg\" height=\"24px\"viewBox=\"0 0 24 24\"\n",
              "     width=\"24px\">\n",
              "    <g>\n",
              "        <path d=\"M19 3H5c-1.1 0-2 .9-2 2v14c0 1.1.9 2 2 2h14c1.1 0 2-.9 2-2V5c0-1.1-.9-2-2-2zM9 17H7v-7h2v7zm4 0h-2V7h2v10zm4 0h-2v-4h2v4z\"/>\n",
              "    </g>\n",
              "</svg>\n",
              "  </button>\n",
              "\n",
              "<style>\n",
              "  .colab-df-quickchart {\n",
              "      --bg-color: #E8F0FE;\n",
              "      --fill-color: #1967D2;\n",
              "      --hover-bg-color: #E2EBFA;\n",
              "      --hover-fill-color: #174EA6;\n",
              "      --disabled-fill-color: #AAA;\n",
              "      --disabled-bg-color: #DDD;\n",
              "  }\n",
              "\n",
              "  [theme=dark] .colab-df-quickchart {\n",
              "      --bg-color: #3B4455;\n",
              "      --fill-color: #D2E3FC;\n",
              "      --hover-bg-color: #434B5C;\n",
              "      --hover-fill-color: #FFFFFF;\n",
              "      --disabled-bg-color: #3B4455;\n",
              "      --disabled-fill-color: #666;\n",
              "  }\n",
              "\n",
              "  .colab-df-quickchart {\n",
              "    background-color: var(--bg-color);\n",
              "    border: none;\n",
              "    border-radius: 50%;\n",
              "    cursor: pointer;\n",
              "    display: none;\n",
              "    fill: var(--fill-color);\n",
              "    height: 32px;\n",
              "    padding: 0;\n",
              "    width: 32px;\n",
              "  }\n",
              "\n",
              "  .colab-df-quickchart:hover {\n",
              "    background-color: var(--hover-bg-color);\n",
              "    box-shadow: 0 1px 2px rgba(60, 64, 67, 0.3), 0 1px 3px 1px rgba(60, 64, 67, 0.15);\n",
              "    fill: var(--button-hover-fill-color);\n",
              "  }\n",
              "\n",
              "  .colab-df-quickchart-complete:disabled,\n",
              "  .colab-df-quickchart-complete:disabled:hover {\n",
              "    background-color: var(--disabled-bg-color);\n",
              "    fill: var(--disabled-fill-color);\n",
              "    box-shadow: none;\n",
              "  }\n",
              "\n",
              "  .colab-df-spinner {\n",
              "    border: 2px solid var(--fill-color);\n",
              "    border-color: transparent;\n",
              "    border-bottom-color: var(--fill-color);\n",
              "    animation:\n",
              "      spin 1s steps(1) infinite;\n",
              "  }\n",
              "\n",
              "  @keyframes spin {\n",
              "    0% {\n",
              "      border-color: transparent;\n",
              "      border-bottom-color: var(--fill-color);\n",
              "      border-left-color: var(--fill-color);\n",
              "    }\n",
              "    20% {\n",
              "      border-color: transparent;\n",
              "      border-left-color: var(--fill-color);\n",
              "      border-top-color: var(--fill-color);\n",
              "    }\n",
              "    30% {\n",
              "      border-color: transparent;\n",
              "      border-left-color: var(--fill-color);\n",
              "      border-top-color: var(--fill-color);\n",
              "      border-right-color: var(--fill-color);\n",
              "    }\n",
              "    40% {\n",
              "      border-color: transparent;\n",
              "      border-right-color: var(--fill-color);\n",
              "      border-top-color: var(--fill-color);\n",
              "    }\n",
              "    60% {\n",
              "      border-color: transparent;\n",
              "      border-right-color: var(--fill-color);\n",
              "    }\n",
              "    80% {\n",
              "      border-color: transparent;\n",
              "      border-right-color: var(--fill-color);\n",
              "      border-bottom-color: var(--fill-color);\n",
              "    }\n",
              "    90% {\n",
              "      border-color: transparent;\n",
              "      border-bottom-color: var(--fill-color);\n",
              "    }\n",
              "  }\n",
              "</style>\n",
              "\n",
              "  <script>\n",
              "    async function quickchart(key) {\n",
              "      const quickchartButtonEl =\n",
              "        document.querySelector('#' + key + ' button');\n",
              "      quickchartButtonEl.disabled = true;  // To prevent multiple clicks.\n",
              "      quickchartButtonEl.classList.add('colab-df-spinner');\n",
              "      try {\n",
              "        const charts = await google.colab.kernel.invokeFunction(\n",
              "            'suggestCharts', [key], {});\n",
              "      } catch (error) {\n",
              "        console.error('Error during call to suggestCharts:', error);\n",
              "      }\n",
              "      quickchartButtonEl.classList.remove('colab-df-spinner');\n",
              "      quickchartButtonEl.classList.add('colab-df-quickchart-complete');\n",
              "    }\n",
              "    (() => {\n",
              "      let quickchartButtonEl =\n",
              "        document.querySelector('#df-c9e8193b-3603-4424-88e4-fb74a9691833 button');\n",
              "      quickchartButtonEl.style.display =\n",
              "        google.colab.kernel.accessAllowed ? 'block' : 'none';\n",
              "    })();\n",
              "  </script>\n",
              "</div>\n",
              "    </div>\n",
              "  </div>\n"
            ]
          },
          "metadata": {},
          "execution_count": 17
        }
      ],
      "source": [
        "overspeed_df.head()"
      ],
      "id": "EGtp4eA1YDJe"
    },
    {
      "cell_type": "markdown",
      "metadata": {
        "id": "lZclbh6_b54k"
      },
      "source": [
        "#### Year 2023"
      ],
      "id": "lZclbh6_b54k"
    },
    {
      "cell_type": "code",
      "execution_count": 18,
      "metadata": {
        "colab": {
          "base_uri": "https://localhost:8080/",
          "height": 542
        },
        "id": "-wjePPvhVubH",
        "outputId": "a1150e0e-f165-4d6f-e5f5-ec6f81d5dfbc"
      },
      "outputs": [
        {
          "output_type": "display_data",
          "data": {
            "text/plain": [
              "<Figure size 1300x600 with 2 Axes>"
            ],
            "image/png": "[encoded data removed]"
          },
          "metadata": {}
        }
      ],
      "source": [
        "year = 2023\n",
        "fig, axs = plt.subplots(1,2,figsize=(13, 6), sharex=True, sharey=False)\n",
        "for col_idx in range(2):\n",
        "    # Elbow method:\n",
        "    num_clusters_range = range(1,11)\n",
        "    sse = []\n",
        "    for n_clusters in num_clusters_range:\n",
        "        kmeans = KMeans(n_clusters, random_state=42, n_init='auto')\n",
        "        if col_idx == 0:\n",
        "            df = overspeed_straight_df[overspeed_straight_df['year'] == year]\n",
        "            c = 'red'\n",
        "            dataset = \"straight over-speeding\"\n",
        "        else:\n",
        "            df = overspeed_turning_df[overspeed_turning_df['year'] == year]\n",
        "            c = 'green'\n",
        "            dataset = \"turning over-speeding\"\n",
        "        df['cluster'] = kmeans.fit_predict(\n",
        "            df[['latitude', 'longitude', 'difference']]\n",
        "        )\n",
        "        sse.append(kmeans.inertia_)\n",
        "    axs[col_idx].plot(num_clusters_range, sse, marker='o', c=c)\n",
        "    axs[col_idx].set_title(\n",
        "        f\"Optimal k for {dataset}\",\n",
        "        {'fontsize' : 10}\n",
        "        )\n",
        "plt.show()\n"
      ],
      "id": "-wjePPvhVubH"
    },
    {
      "cell_type": "markdown",
      "metadata": {
        "id": "YPRvBjzSV041"
      },
      "source": [
        "#### For Three Time Periods"
      ],
      "id": "YPRvBjzSV041"
    },
    {
      "cell_type": "code",
      "execution_count": 19,
      "metadata": {
        "id": "968a64f6-6161-4b0e-b757-d9c5ff4292b8"
      },
      "outputs": [],
      "source": [
        "# first_date = '2023-3-30'\n",
        "# second_date = '2023-8-30'\n",
        "\n",
        "# year = 2023\n",
        "# fig, axs = plt.subplots(3,3,figsize=(13, 13), sharex=True, sharey=False)\n",
        "# for row_idx, period in enumerate(['Period 1', 'Period 2', 'Period 3']):\n",
        "#     for col_idx in range(3):\n",
        "#         # Elbow method:\n",
        "#         num_clusters_range = range(1,11)\n",
        "#         sse = []\n",
        "#         for n_clusters in num_clusters_range:\n",
        "#             kmeans = KMeans(n_clusters, random_state=42, n_init='auto')\n",
        "#             if col_idx == 0:\n",
        "#                 df = overspeed_df[overspeed_df['year'] == year]\n",
        "#                 c = 'red'\n",
        "#                 dataset = \"all over-speeding\"\n",
        "#             elif col_idx == 1:\n",
        "#                 df = overspeed_straight_df[overspeed_straight_df['year'] == year]\n",
        "#                 c = 'blue'\n",
        "#                 dataset = \"straight over-speeding\"\n",
        "#             else:\n",
        "#                 df = overspeed_turning_df[overspeed_turning_df['year'] == year]\n",
        "#                 c = 'green'\n",
        "#                 dataset = \"turning over-speeding\"\n",
        "#             if row_idx == 0:\n",
        "#                 df = df[(df[\"hfk_in\"] < pd.to_datetime(first_date))]\n",
        "#             elif row_idx == 1:\n",
        "#                 df = df[(pd.to_datetime(first_date) <= df[\"hfk_in\"]) &\n",
        "#                         (df[\"hfk_in\"] < pd.to_datetime(second_date))]\n",
        "#             else:\n",
        "#                 df = df[(df[\"hfk_in\"] >= pd.to_datetime(second_date))]\n",
        "#             df['cluster'] = kmeans.fit_predict(\n",
        "#                 df[['latitude', 'longitude', 'difference']]\n",
        "#             )\n",
        "#             sse.append(kmeans.inertia_)\n",
        "#         axs[row_idx, col_idx].plot(num_clusters_range, sse, marker='o', c=c)\n",
        "#         axs[row_idx, col_idx].set_title(\n",
        "#             f\"Optimal k for {period} of {dataset}\",\n",
        "#             {'fontsize' : 10}\n",
        "#             )\n",
        "# plt.show()"
      ],
      "id": "968a64f6-6161-4b0e-b757-d9c5ff4292b8"
    },
    {
      "cell_type": "markdown",
      "metadata": {
        "id": "e1cbe9e3-fa7b-4ef1-80bf-303d75a9f228"
      },
      "source": [
        "### Cluster by K-means"
      ],
      "id": "e1cbe9e3-fa7b-4ef1-80bf-303d75a9f228"
    },
    {
      "cell_type": "markdown",
      "metadata": {
        "id": "jIbdjX7UbiQs"
      },
      "source": [
        "#### Year 2023 - Straight Over-speeding"
      ],
      "id": "jIbdjX7UbiQs"
    },
    {
      "cell_type": "code",
      "execution_count": null,
      "metadata": {
        "id": "sJLC2evsbhcm"
      },
      "outputs": [],
      "source": [
        "year = 2023\n",
        "overspeed_df_straight2023 = overspeed_straight_df[overspeed_straight_df['year'] == year]\n",
        "n_clusters = 3\n",
        "# fit the model\n",
        "kmeans = KMeans(n_clusters, random_state=42, n_init='auto')\n",
        "overspeed_df_straight2023['cluster'] = kmeans.fit_predict(\n",
        "    overspeed_df_straight2023[['latitude', 'longitude', 'difference']]\n",
        "    )\n",
        "\n",
        "fig, ax = plt.subplots(figsize=(5,5))\n",
        "plt.scatter(kmeans.cluster_centers_[:,1], kmeans.cluster_centers_[:,0], c='black')\n",
        "plt.scatter(overspeed_df_straight2023['longitude'],\n",
        "            overspeed_df_straight2023['latitude'],\n",
        "            c=overspeed_df_straight2023['cluster'],\n",
        "            cmap='rainbow',\n",
        "            s=10)\n",
        "plt.title('Straight over-speeding clustering in 2023')\n",
        "plt.show()\n",
        "\n",
        "fig = plt.figure(figsize=(8, 8))\n",
        "ax = fig.add_subplot(projection='3d')\n",
        "\n",
        "ax.scatter(overspeed_df_straight2023['latitude'], overspeed_df_straight2023['longitude'],\n",
        "           overspeed_df_straight2023['difference'],\n",
        "           c=overspeed_df_straight2023['cluster'],\n",
        "           s=overspeed_df_straight2023['difference']*1,\n",
        "           cmap='rainbow'\n",
        "           )\n",
        "\n",
        "ax.view_init(elev=25, azim=45)\n",
        "ax.set_ylabel('Longitude')\n",
        "ax.set_xlabel('Latitude')\n",
        "ax.set_zlabel('Over-speeding')\n",
        "#plt.title(\"Straight over-speeding clustering in 2023\")\n",
        "plt.show()"
      ],
      "id": "sJLC2evsbhcm"
    },
    {
      "cell_type": "code",
      "execution_count": null,
      "metadata": {
        "id": "6qy68Oeqjx4H"
      },
      "outputs": [],
      "source": [
        "cluster_centers = kmeans.cluster_centers_\n",
        "cluster_centers"
      ],
      "id": "6qy68Oeqjx4H"
    },
    {
      "cell_type": "code",
      "execution_count": null,
      "metadata": {
        "id": "pWRX2fRglpzL"
      },
      "outputs": [],
      "source": [
        "labels = kmeans.labels_\n",
        "labels"
      ],
      "id": "pWRX2fRglpzL"
    },
    {
      "cell_type": "code",
      "execution_count": null,
      "metadata": {
        "id": "boKuyjj-l0c0"
      },
      "outputs": [],
      "source": [
        "unique, counts = np.unique(labels, return_counts=True)\n",
        "cluster_counts = dict(zip(unique, counts))\n",
        "cluster_counts"
      ],
      "id": "boKuyjj-l0c0"
    },
    {
      "cell_type": "code",
      "execution_count": null,
      "metadata": {
        "id": "rcW1Xllsmr4G"
      },
      "outputs": [],
      "source": [
        "for cluster_id, count in cluster_counts.items():\n",
        "    center = cluster_centers[cluster_id]\n",
        "    print(f\"Cluster {cluster_id}, Center: {center}, Points in cluster: {count}\")"
      ],
      "id": "rcW1Xllsmr4G"
    },
    {
      "cell_type": "code",
      "execution_count": null,
      "metadata": {
        "id": "9UYu10WPikat"
      },
      "outputs": [],
      "source": [
        "overspeed_df_straight2023.head()"
      ],
      "id": "9UYu10WPikat"
    },
    {
      "cell_type": "code",
      "execution_count": null,
      "metadata": {
        "id": "B9A_WhpphUiF"
      },
      "outputs": [],
      "source": [
        "# import folium\n",
        "# !pip install selenium\n",
        "# import selenium\n",
        "# import io\n",
        "# from PIL import Image\n",
        "\n",
        "# # Calculate average latitude and longtitude\n",
        "# average_latitude = overspeed_df_straight2023['latitude'].mean()\n",
        "# average_longitude = overspeed_df_straight2023['longitude'].mean()\n",
        "\n",
        "# print(\"Average Latitude:\", average_latitude)\n",
        "# print(\"Average Longitude:\", average_longitude)\n",
        "\n",
        "# # Create a map object, set the initial location and zoom level\n",
        "# map_combine = folium.Map(location=[average_latitude, average_longitude], zoom_start=12)\n",
        "\n",
        "# # # Add cluster centers as special markers\n",
        "# # for i in range(len(kmeans.cluster_centers_)):\n",
        "# #     folium.Marker(\n",
        "# #         [kmeans.cluster_centers_[i][0], kmeans.cluster_centers_[i][1]],\n",
        "# #         icon=folium.Icon(color='red', icon='info-sign')\n",
        "# #     ).add_to(map_combine)\n",
        "\n",
        "# # Add data points based on clustering results\n",
        "# for index, row in overspeed_df_straight2023.iterrows():\n",
        "#     if row['cluster'] == 0:\n",
        "#       color = 'red'\n",
        "#     elif row['cluster'] == 1:\n",
        "#       color = 'blue'\n",
        "#     else:\n",
        "#       color = 'green'\n",
        "#     folium.CircleMarker(\n",
        "#         [row['latitude'], row['longitude']],\n",
        "#         radius=5,\n",
        "#         color=color,\n",
        "#         fill=True,\n",
        "#         popup=f\"Speed: {row['speed']} km/h\" # Show speed on map\n",
        "#     ).add_to(map_combine)\n",
        "\n",
        "# Display the map\n",
        "# map_combine\n",
        "# img_data = map_combine._to_png(5)\n",
        "# img = Image.open(io.BytesIO(img_data))\n",
        "# img.save(\"/content/drive/My Drive/MyImages/clustering_straight_2023_map.png\")"
      ],
      "id": "B9A_WhpphUiF"
    },
    {
      "cell_type": "markdown",
      "metadata": {
        "id": "TOR60hOwf4lN"
      },
      "source": [
        "#### Year 2023 - Turning Over-speeding"
      ],
      "id": "TOR60hOwf4lN"
    },
    {
      "cell_type": "code",
      "execution_count": null,
      "metadata": {
        "id": "NDc07C1Jf7cF"
      },
      "outputs": [],
      "source": [
        "year = 2023\n",
        "overspeed_df_turning2023 = overspeed_turning_df[overspeed_turning_df['year'] == year]\n",
        "n_clusters = 3\n",
        "# fit the model\n",
        "kmeans = KMeans(n_clusters, random_state=42, n_init='auto')\n",
        "overspeed_df_turning2023['cluster'] = kmeans.fit_predict(\n",
        "    overspeed_df_turning2023[['latitude', 'longitude', 'difference']]\n",
        "    )\n",
        "\n",
        "fig, ax = plt.subplots(figsize=(5,5))\n",
        "plt.scatter(kmeans.cluster_centers_[:,1], kmeans.cluster_centers_[:,0], c='black')\n",
        "plt.scatter(overspeed_df_turning2023['longitude'],\n",
        "            overspeed_df_turning2023['latitude'],\n",
        "            c=overspeed_df_turning2023['cluster'],\n",
        "            cmap='rainbow',\n",
        "            s=10)\n",
        "plt.title('Turning over-speeding clustering in 2023')\n",
        "plt.show()\n",
        "\n",
        "fig = plt.figure(figsize=(8, 8))\n",
        "ax = fig.add_subplot(projection='3d')\n",
        "\n",
        "ax.scatter(overspeed_df_turning2023['latitude'], overspeed_df_turning2023['longitude'],\n",
        "           overspeed_df_turning2023['difference'],\n",
        "           c=overspeed_df_turning2023['cluster'],\n",
        "           s=overspeed_df_turning2023['difference']*1,\n",
        "           cmap='rainbow'\n",
        "           )\n",
        "\n",
        "ax.view_init(elev=25, azim=45)\n",
        "ax.set_ylabel('Longitude')\n",
        "ax.set_xlabel('Latitude')\n",
        "ax.set_zlabel('Over-speeding')\n",
        "#plt.title(\"Turning over-speeding clustering in 2023\")\n",
        "plt.show()"
      ],
      "id": "NDc07C1Jf7cF"
    },
    {
      "cell_type": "code",
      "execution_count": null,
      "metadata": {
        "id": "_s2GJmeak8ao"
      },
      "outputs": [],
      "source": [
        "cluster_centers = kmeans.cluster_centers_\n",
        "cluster_centers"
      ],
      "id": "_s2GJmeak8ao"
    },
    {
      "cell_type": "code",
      "execution_count": null,
      "metadata": {
        "id": "UzYlys7VnB0T"
      },
      "outputs": [],
      "source": [
        "labels = kmeans.labels_\n",
        "labels"
      ],
      "id": "UzYlys7VnB0T"
    },
    {
      "cell_type": "code",
      "execution_count": null,
      "metadata": {
        "id": "HMse-YJ7nEZG"
      },
      "outputs": [],
      "source": [
        "unique, counts = np.unique(labels, return_counts=True)\n",
        "cluster_counts = dict(zip(unique, counts))\n",
        "cluster_counts"
      ],
      "id": "HMse-YJ7nEZG"
    },
    {
      "cell_type": "code",
      "execution_count": null,
      "metadata": {
        "id": "JWKvUwFQnGov"
      },
      "outputs": [],
      "source": [
        "for cluster_id, count in cluster_counts.items():\n",
        "    center = cluster_centers[cluster_id]\n",
        "    print(f\"Cluster {cluster_id}, Center: {center}, Points in cluster: {count}\")"
      ],
      "id": "JWKvUwFQnGov"
    },
    {
      "cell_type": "code",
      "execution_count": null,
      "metadata": {
        "id": "iN3RQjH7kptf"
      },
      "outputs": [],
      "source": [
        "import folium\n",
        "\n",
        "# Calculate average latitude and longtitude\n",
        "average_latitude = overspeed_df_turning2023['latitude'].mean()\n",
        "average_longitude = overspeed_df_turning2023['longitude'].mean()\n",
        "\n",
        "print(\"Average Latitude:\", average_latitude)\n",
        "print(\"Average Longitude:\", average_longitude)\n",
        "\n",
        "# Create a map object, set the initial location and zoom level\n",
        "map_combine = folium.Map(location=[average_latitude, average_longitude], zoom_start=12)\n",
        "\n",
        "# Add cluster centers as special markers\n",
        "for i in range(len(kmeans.cluster_centers_)):\n",
        "    folium.Marker(\n",
        "        [kmeans.cluster_centers_[i][0], kmeans.cluster_centers_[i][1]],\n",
        "        icon=folium.Icon(color='red', icon='info-sign')\n",
        "    ).add_to(map_combine)\n",
        "\n",
        "# Add data points based on clustering results\n",
        "for index, row in overspeed_df_turning2023.iterrows():\n",
        "    if row['cluster'] == 0:\n",
        "      color = 'red'\n",
        "    elif row['cluster'] == 1:\n",
        "      color = 'blue'\n",
        "    else:\n",
        "      color = 'green'\n",
        "    folium.CircleMarker(\n",
        "        [row['latitude'], row['longitude']],\n",
        "        radius=5,\n",
        "        color=color,\n",
        "        fill=True,\n",
        "        popup=f\"Speed: {row['speed']} km/h\" # Show speed on map\n",
        "    ).add_to(map_combine)\n",
        "\n",
        "# Display the map\n",
        "# map_combine"
      ],
      "id": "iN3RQjH7kptf"
    },
    {
      "cell_type": "code",
      "execution_count": null,
      "metadata": {
        "id": "68ZQzwki3o1l"
      },
      "outputs": [],
      "source": [
        "# img_data = map_combine._to_png(5)\n",
        "# img = Image.open(io.BytesIO(img_data))\n",
        "# img.save(\"/content/drive/My Drive/MyImages/clustering_turning_2023_map.png\")"
      ],
      "id": "68ZQzwki3o1l"
    },
    {
      "cell_type": "code",
      "execution_count": null,
      "metadata": {
        "id": "7KWp8D3psXLR"
      },
      "outputs": [],
      "source": [],
      "id": "7KWp8D3psXLR"
    },
    {
      "cell_type": "markdown",
      "metadata": {
        "id": "b7145ade-a316-4c4a-8bb5-760cbde39774"
      },
      "source": [
        "#### Period 1 - all over-speed"
      ],
      "id": "b7145ade-a316-4c4a-8bb5-760cbde39774"
    },
    {
      "cell_type": "code",
      "execution_count": null,
      "metadata": {
        "id": "5a69b636-74ae-4f10-b02d-fbaf14e36eea",
        "scrolled": true
      },
      "outputs": [],
      "source": [
        "# overspeed_df_p1 = overspeed_df[overspeed_df[\"hfk_in\"] <= pd.to_datetime(first_date)]\n",
        "# n_clusters = 3\n",
        "# # fit the model\n",
        "# kmeans = KMeans(n_clusters, random_state=42, n_init='auto')\n",
        "# overspeed_df_p1['cluster'] = kmeans.fit_predict(\n",
        "#     overspeed_df_p1[['latitude', 'longitude', 'difference']]\n",
        "#     )\n",
        "\n",
        "# fig, ax = plt.subplots(figsize=(5,5))\n",
        "# plt.scatter(kmeans.cluster_centers_[:,1], kmeans.cluster_centers_[:,0], c='black')\n",
        "# plt.scatter(overspeed_df_p1['longitude'],\n",
        "#             overspeed_df_p1['latitude'],\n",
        "#             c=overspeed_df_p1['cluster'],\n",
        "#             cmap='hsv',\n",
        "#             s=10)\n",
        "# plt.title('All over-speeding clustering in period 1')\n",
        "# plt.show()"
      ],
      "id": "5a69b636-74ae-4f10-b02d-fbaf14e36eea"
    },
    {
      "cell_type": "code",
      "execution_count": null,
      "metadata": {
        "id": "1673fab7-d530-49b3-9a1a-e886a1b88001"
      },
      "outputs": [],
      "source": [
        "# fig = plt.figure(figsize=(8, 8))\n",
        "# ax = fig.add_subplot(projection='3d')\n",
        "\n",
        "# ax.scatter(overspeed_df_p1['latitude_x'], overspeed_df_p1['longitude_x'],\n",
        "#            overspeed_df_p1['difference'],\n",
        "#            c=overspeed_df_p1['cluster'],\n",
        "#            s=overspeed_df_p1['difference']*1\n",
        "#            )\n",
        "\n",
        "# ax.view_init(elev=25, azim=45)\n",
        "# ax.set_ylabel('Longitude')\n",
        "# ax.set_xlabel('Latitude')\n",
        "# ax.set_zlabel('Over-speeding')\n",
        "# plt.title(\"All over-speeding\")\n",
        "# plt.show()"
      ],
      "id": "1673fab7-d530-49b3-9a1a-e886a1b88001"
    },
    {
      "cell_type": "markdown",
      "metadata": {
        "id": "aa383b11-553a-46c7-8a44-4a85c3cdac92"
      },
      "source": [
        "#### Period 2 - all over-speed"
      ],
      "id": "aa383b11-553a-46c7-8a44-4a85c3cdac92"
    },
    {
      "cell_type": "code",
      "execution_count": null,
      "metadata": {
        "id": "dc0f71cc-507c-47b7-9234-da5adfa7ad61"
      },
      "outputs": [],
      "source": [
        "# overspeed_df_p2 = overspeed_df[\n",
        "#     (overspeed_df[\"hfk_in\"] <= pd.to_datetime(second_date)) &\n",
        "#     (overspeed_df[\"hfk_in\"] > pd.to_datetime(first_date))\n",
        "# ]\n",
        "# n_clusters = 3\n",
        "# # fit the model\n",
        "# kmeans = KMeans(n_clusters, random_state=42, n_init='auto')\n",
        "# overspeed_df_p2['cluster'] = kmeans.fit_predict(\n",
        "#     overspeed_df_p2[['latitude_x', 'longitude_x', 'difference']]\n",
        "#     )\n",
        "\n",
        "# fig, ax = plt.subplots(figsize=(5,5))\n",
        "# plt.scatter(kmeans.cluster_centers_[:,1], kmeans.cluster_centers_[:,0], c='black')\n",
        "# plt.scatter(overspeed_df_p2['longitude_x'],\n",
        "#             overspeed_df_p2['latitude_x'],\n",
        "#             c=overspeed_df_p2['cluster'],\n",
        "#             cmap='hsv',\n",
        "#             s=10)\n",
        "# plt.title('All over-speeding clustering in period 2')\n",
        "# plt.show()\n",
        "\n",
        "# fig = plt.figure(figsize=(8, 8))\n",
        "# ax = fig.add_subplot(projection='3d')\n",
        "\n",
        "# ax.scatter(overspeed_df_p2['latitude_x'], overspeed_df_p2['longitude_x'],\n",
        "#            overspeed_df_p2['difference'],\n",
        "#            c=overspeed_df_p2['cluster'],\n",
        "#            s=overspeed_df_p2['difference']*1\n",
        "#            )\n",
        "\n",
        "# ax.view_init(elev=25, azim=45)\n",
        "# ax.set_ylabel('Longitude')\n",
        "# ax.set_xlabel('Latitude')\n",
        "# ax.set_zlabel('Over-speeding')\n",
        "# plt.title(\"All over-speeding\")\n",
        "# plt.show()"
      ],
      "id": "dc0f71cc-507c-47b7-9234-da5adfa7ad61"
    },
    {
      "cell_type": "markdown",
      "metadata": {
        "id": "3d5b6438-bbcf-428c-8bb8-472ef9a0324c"
      },
      "source": [
        "#### Period 3 - all over-speed"
      ],
      "id": "3d5b6438-bbcf-428c-8bb8-472ef9a0324c"
    },
    {
      "cell_type": "code",
      "execution_count": null,
      "metadata": {
        "id": "4709c10a-998d-4ccb-b86f-7c184036c7cb"
      },
      "outputs": [],
      "source": [
        "# overspeed_df_p3 = overspeed_df[overspeed_df[\"hfk_in\"] > pd.to_datetime(second_date)]\n",
        "# n_clusters = 3\n",
        "# # fit the model\n",
        "# kmeans = KMeans(n_clusters, random_state=42, n_init='auto')\n",
        "# overspeed_df_p3['cluster'] = kmeans.fit_predict(\n",
        "#     overspeed_df_p3[['latitude_x', 'longitude_x', 'difference']]\n",
        "#     )\n",
        "\n",
        "# fig, ax = plt.subplots(figsize=(5,5))\n",
        "# plt.scatter(kmeans.cluster_centers_[:,1], kmeans.cluster_centers_[:,0], c='black')\n",
        "# plt.scatter(overspeed_df_p3['longitude_x'],\n",
        "#             overspeed_df_p3['latitude_x'],\n",
        "#             c=overspeed_df_p3['cluster'],\n",
        "#             cmap='hsv',\n",
        "#             s=10)\n",
        "# plt.title('All over-speeding clustering in period 3')\n",
        "# plt.show()\n",
        "\n",
        "# fig = plt.figure(figsize=(8, 8))\n",
        "# ax = fig.add_subplot(projection='3d')\n",
        "\n",
        "# ax.scatter(overspeed_df_p3['latitude_x'], overspeed_df_p3['longitude_x'],\n",
        "#            overspeed_df_p3['difference'],\n",
        "#            c=overspeed_df_p3['cluster'],\n",
        "#            s=overspeed_df_p3['difference']*1\n",
        "#            )\n",
        "\n",
        "# ax.view_init(elev=25, azim=45)\n",
        "# ax.set_ylabel('Longitude')\n",
        "# ax.set_xlabel('Latitude')\n",
        "# ax.set_zlabel('Over-speeding')\n",
        "# plt.title(\"All over-speeding\")\n",
        "# plt.show()"
      ],
      "id": "4709c10a-998d-4ccb-b86f-7c184036c7cb"
    },
    {
      "cell_type": "markdown",
      "metadata": {
        "id": "92e6b848-254a-43fc-8621-87b9d1e4bf97"
      },
      "source": [
        "#### Period 1 - straight over-speed"
      ],
      "id": "92e6b848-254a-43fc-8621-87b9d1e4bf97"
    },
    {
      "cell_type": "code",
      "execution_count": null,
      "metadata": {
        "id": "23387e94-f95b-4507-bffd-df82eb510c01",
        "scrolled": true
      },
      "outputs": [],
      "source": [
        "# overspeed_straight_df_p1 = overspeed_straight_df[overspeed_straight_df[\"hfk_in\"] <= pd.to_datetime(first_date)]\n",
        "# n_clusters = 3\n",
        "# # fit the model\n",
        "# kmeans = KMeans(n_clusters, random_state=42, n_init='auto')\n",
        "# overspeed_straight_df_p1['cluster'] = kmeans.fit_predict(\n",
        "#     overspeed_straight_df_p1[['latitude_x', 'longitude_x', 'difference']]\n",
        "#     )\n",
        "\n",
        "# fig, ax = plt.subplots(figsize=(5,5))\n",
        "# plt.scatter(kmeans.cluster_centers_[:,1], kmeans.cluster_centers_[:,0], c='black')\n",
        "# plt.scatter(overspeed_straight_df_p1['longitude_x'],\n",
        "#             overspeed_straight_df_p1['latitude_x'],\n",
        "#             c=overspeed_straight_df_p1['cluster'],\n",
        "#             cmap='hsv',\n",
        "#             s=10)\n",
        "# plt.title('Straight over-speeding clustering in period 1')\n",
        "# plt.show()\n",
        "\n",
        "# fig = plt.figure(figsize=(8, 8))\n",
        "# ax = fig.add_subplot(projection='3d')\n",
        "\n",
        "# ax.scatter(overspeed_straight_df_p1['latitude_x'], overspeed_straight_df_p1['longitude_x'],\n",
        "#            overspeed_straight_df_p1['difference'],\n",
        "#            c=overspeed_straight_df_p1['cluster'],\n",
        "#            s=overspeed_straight_df_p1['difference']*1\n",
        "#            )\n",
        "\n",
        "# ax.view_init(elev=25, azim=45)\n",
        "# ax.set_ylabel('Longitude')\n",
        "# ax.set_xlabel('Latitude')\n",
        "# ax.set_zlabel('Over-speeding')\n",
        "# plt.title(\"All over-speeding\")\n",
        "# plt.show()"
      ],
      "id": "23387e94-f95b-4507-bffd-df82eb510c01"
    },
    {
      "cell_type": "markdown",
      "metadata": {
        "id": "391d947d-e3b2-4a2c-924e-9439b0e14bc7"
      },
      "source": [
        "#### Period 2 - straight over-speed"
      ],
      "id": "391d947d-e3b2-4a2c-924e-9439b0e14bc7"
    },
    {
      "cell_type": "code",
      "execution_count": null,
      "metadata": {
        "id": "a0077bb2-3c6e-4177-9362-f8f0d9ab59dc",
        "scrolled": true
      },
      "outputs": [],
      "source": [
        "overspeed_straight_df_p2 = overspeed_straight_df[\n",
        "    (overspeed_straight_df[\"hfk_in\"] > pd.to_datetime(first_date)) &\n",
        "    (overspeed_straight_df[\"hfk_in\"] <= pd.to_datetime(second_date))\n",
        "]\n",
        "n_clusters = 3\n",
        "# fit the model\n",
        "kmeans = KMeans(n_clusters, random_state=42, n_init='auto')\n",
        "overspeed_straight_df_p2['cluster'] = kmeans.fit_predict(\n",
        "    overspeed_straight_df_p2[['latitude_x', 'longitude_x', 'difference']]\n",
        "    )\n",
        "\n",
        "fig, ax = plt.subplots(figsize=(5,5))\n",
        "plt.scatter(kmeans.cluster_centers_[:,1], kmeans.cluster_centers_[:,0], c='black')\n",
        "plt.scatter(overspeed_straight_df_p2['longitude_x'],\n",
        "            overspeed_straight_df_p2['latitude_x'],\n",
        "            c=overspeed_straight_df_p2['cluster'],\n",
        "            cmap='hsv',\n",
        "            s=10)\n",
        "plt.title('Straight over-speeding clustering in period 2')\n",
        "plt.show()"
      ],
      "id": "a0077bb2-3c6e-4177-9362-f8f0d9ab59dc"
    },
    {
      "cell_type": "markdown",
      "metadata": {
        "id": "eb41ea18-5d80-4400-90e2-5065c36cfbca"
      },
      "source": [
        "#### Period 3 - straight over-speed"
      ],
      "id": "eb41ea18-5d80-4400-90e2-5065c36cfbca"
    },
    {
      "cell_type": "code",
      "execution_count": null,
      "metadata": {
        "id": "6a733e07-14d4-42bd-8d34-e8cc0c95daab",
        "scrolled": true
      },
      "outputs": [],
      "source": [
        "overspeed_straight_df_p3 = overspeed_straight_df[overspeed_straight_df[\"hfk_in\"] > pd.to_datetime(second_date)]\n",
        "n_clusters = 3\n",
        "# fit the model\n",
        "kmeans = KMeans(n_clusters, random_state=42, n_init='auto')\n",
        "overspeed_straight_df_p3['cluster'] = kmeans.fit_predict(\n",
        "    overspeed_straight_df_p3[['latitude_x', 'longitude_x', 'difference']]\n",
        "    )\n",
        "\n",
        "fig, ax = plt.subplots(figsize=(5,5))\n",
        "plt.scatter(kmeans.cluster_centers_[:,1], kmeans.cluster_centers_[:,0], c='black')\n",
        "plt.scatter(overspeed_straight_df_p3['longitude_x'],\n",
        "            overspeed_straight_df_p3['latitude_x'],\n",
        "            c=overspeed_straight_df_p3['cluster'],\n",
        "            cmap='hsv',\n",
        "            s=10)\n",
        "plt.title('Straight over-speeding clustering in period 3')\n",
        "plt.show()"
      ],
      "id": "6a733e07-14d4-42bd-8d34-e8cc0c95daab"
    },
    {
      "cell_type": "markdown",
      "metadata": {
        "id": "3ac71b32-af8c-464a-ae6d-f5b73115fbc8"
      },
      "source": [
        "#### Period 1 - turning over-speed"
      ],
      "id": "3ac71b32-af8c-464a-ae6d-f5b73115fbc8"
    },
    {
      "cell_type": "code",
      "execution_count": null,
      "metadata": {
        "id": "cccd07d2-bc35-4e42-9e56-fe53ef592609",
        "scrolled": true
      },
      "outputs": [],
      "source": [
        "overspeed_turning_df_p1 = overspeed_turning_df[overspeed_turning_df[\"hfk_in\"] <= pd.to_datetime(first_date)]\n",
        "n_clusters = 3\n",
        "# fit the model\n",
        "kmeans = KMeans(n_clusters, random_state=42, n_init='auto')\n",
        "overspeed_turning_df_p1['cluster'] = kmeans.fit_predict(\n",
        "    overspeed_turning_df_p1[['latitude_x', 'longitude_x', 'difference']]\n",
        "    )\n",
        "\n",
        "fig, ax = plt.subplots(figsize=(5,5))\n",
        "plt.scatter(kmeans.cluster_centers_[:,1], kmeans.cluster_centers_[:,0], c='black')\n",
        "plt.scatter(overspeed_turning_df_p1['longitude_x'],\n",
        "            overspeed_turning_df_p1['latitude_x'],\n",
        "            c=overspeed_turning_df_p1['cluster'],\n",
        "            cmap='hsv',\n",
        "            s=10)\n",
        "plt.title('Turning over-speeding clustering in period 1')\n",
        "plt.show()"
      ],
      "id": "cccd07d2-bc35-4e42-9e56-fe53ef592609"
    },
    {
      "cell_type": "markdown",
      "metadata": {
        "id": "4eb29990-5c07-460c-a6d0-ca37a6ea26e1"
      },
      "source": [
        "#### Period 2 - turning over-speed"
      ],
      "id": "4eb29990-5c07-460c-a6d0-ca37a6ea26e1"
    },
    {
      "cell_type": "code",
      "execution_count": null,
      "metadata": {
        "id": "b6a261d5-868c-4f38-b09f-924076dca616",
        "scrolled": true
      },
      "outputs": [],
      "source": [
        "overspeed_turning_df_p2 = overspeed_turning_df[\n",
        "    (overspeed_turning_df[\"hfk_in\"] > pd.to_datetime(first_date)) &\n",
        "    (overspeed_turning_df[\"hfk_in\"] <= pd.to_datetime(second_date))\n",
        "]\n",
        "n_clusters = 3\n",
        "# fit the model\n",
        "kmeans = KMeans(n_clusters, random_state=42, n_init='auto')\n",
        "overspeed_turning_df_p2['cluster'] = kmeans.fit_predict(\n",
        "    overspeed_turning_df_p2[['latitude_x', 'longitude_x', 'difference']]\n",
        "    )\n",
        "\n",
        "fig, ax = plt.subplots(figsize=(5,5))\n",
        "plt.scatter(kmeans.cluster_centers_[:,1], kmeans.cluster_centers_[:,0], c='black')\n",
        "plt.scatter(overspeed_turning_df_p2['longitude_x'],\n",
        "            overspeed_turning_df_p2['latitude_x'],\n",
        "            c=overspeed_turning_df_p2['cluster'],\n",
        "            cmap='hsv',\n",
        "            s=10)\n",
        "plt.title('Turning over-speeding clustering in period 2')\n",
        "plt.show()"
      ],
      "id": "b6a261d5-868c-4f38-b09f-924076dca616"
    },
    {
      "cell_type": "markdown",
      "metadata": {
        "id": "49421d12-a441-4803-9971-3c4f5d4aeec7"
      },
      "source": [
        "#### Period 3 - turning over-speed"
      ],
      "id": "49421d12-a441-4803-9971-3c4f5d4aeec7"
    },
    {
      "cell_type": "code",
      "execution_count": null,
      "metadata": {
        "id": "31c0b298-eb2c-4fc8-a89a-c7209d135652"
      },
      "outputs": [],
      "source": [
        "overspeed_turning_df_p3 = overspeed_turning_df[overspeed_turning_df[\"hfk_in\"] > pd.to_datetime(second_date)]\n",
        "n_clusters = 3\n",
        "# fit the model\n",
        "kmeans = KMeans(n_clusters, random_state=42, n_init='auto')\n",
        "overspeed_turning_df_p3['cluster'] = kmeans.fit_predict(\n",
        "    overspeed_turning_df_p3[['latitude_x', 'longitude_x', 'difference']]\n",
        "    )\n",
        "\n",
        "fig, ax = plt.subplots(figsize=(5,5))\n",
        "plt.scatter(kmeans.cluster_centers_[:,1], kmeans.cluster_centers_[:,0], c='black')\n",
        "plt.scatter(overspeed_turning_df_p3['longitude_x'],\n",
        "            overspeed_turning_df_p3['latitude_x'],\n",
        "            c=overspeed_turning_df_p3['cluster'],\n",
        "            cmap='hsv',\n",
        "            s=10)\n",
        "plt.title('Turning over-speeding clustering in period 3')\n",
        "plt.show()"
      ],
      "id": "31c0b298-eb2c-4fc8-a89a-c7209d135652"
    },
    {
      "cell_type": "markdown",
      "metadata": {
        "id": "a5e1775d-05b0-4e49-af44-9d6efcf50e56"
      },
      "source": [
        "## Spatial analysis"
      ],
      "id": "a5e1775d-05b0-4e49-af44-9d6efcf50e56"
    },
    {
      "cell_type": "markdown",
      "metadata": {
        "id": "73bb7a57-2d96-4769-8e6a-87e997108443"
      },
      "source": [
        "### `Tramline`"
      ],
      "id": "73bb7a57-2d96-4769-8e6a-87e997108443"
    },
    {
      "cell_type": "markdown",
      "metadata": {
        "id": "1f899b2f-a4f9-41fe-a156-ced1a578e264"
      },
      "source": [
        "**Questions:** Which tramline has the most frequent over-speeding issue?"
      ],
      "id": "1f899b2f-a4f9-41fe-a156-ced1a578e264"
    },
    {
      "cell_type": "markdown",
      "metadata": {
        "id": "6a242c3c-af33-4be5-ae24-e8e136f3dc9c"
      },
      "source": [
        "Report the number of records of over-speeding on each tramline."
      ],
      "id": "6a242c3c-af33-4be5-ae24-e8e136f3dc9c"
    },
    {
      "cell_type": "code",
      "execution_count": null,
      "metadata": {
        "id": "rtkKzgaadY6-"
      },
      "outputs": [],
      "source": [
        "os_tramline = overspeed_df.groupby('line').count()\n",
        "os_tramline.index =  os_tramline.index.astype('int32')"
      ],
      "id": "rtkKzgaadY6-"
    },
    {
      "cell_type": "code",
      "execution_count": null,
      "metadata": {
        "id": "4e144ae7-5c63-43ea-b226-5ef35ae5ead8"
      },
      "outputs": [],
      "source": [
        "os_tramline['vehicle'].sort_values(ascending=False).iloc[:]"
      ],
      "id": "4e144ae7-5c63-43ea-b226-5ef35ae5ead8"
    },
    {
      "cell_type": "code",
      "execution_count": null,
      "metadata": {
        "id": "91b01ad2-db82-4c48-8075-f5115471eb61"
      },
      "outputs": [],
      "source": [
        "straight_os_tramline['vehicle'].sort_values(ascending=False).iloc[:]"
      ],
      "id": "91b01ad2-db82-4c48-8075-f5115471eb61"
    },
    {
      "cell_type": "code",
      "execution_count": null,
      "metadata": {
        "id": "d0254608-2b5d-41fb-af72-e42ac9e32222"
      },
      "outputs": [],
      "source": [
        "turning_os_tramline['vehicle'].sort_values(ascending=False).iloc[:]"
      ],
      "id": "d0254608-2b5d-41fb-af72-e42ac9e32222"
    },
    {
      "cell_type": "code",
      "execution_count": null,
      "metadata": {
        "id": "f76283a4-7ade-4a1e-990d-4cf6e3e468b6"
      },
      "outputs": [],
      "source": [
        "plt.figure(figsize=(12,3))\n",
        "sb.barplot(data=os_tramline, x=os_tramline.index, y='vehicle')\n",
        "plt.xlabel('Tramline number')\n",
        "plt.ylabel('#records')\n",
        "plt.title(f'Number of over-speeding records in year {year}')\n",
        "# plt.xticks(rotation=45)\n",
        "plt.show()\n",
        "\n",
        "straight_os_tramline = overspeed_straight_df.groupby('line').count()\n",
        "straight_os_tramline.index =  straight_os_tramline.index.astype('int32')\n",
        "\n",
        "plt.figure(figsize=(12,3))\n",
        "sb.barplot(data=straight_os_tramline, x=straight_os_tramline.index, y='vehicle')\n",
        "plt.xlabel('Tramline number')\n",
        "plt.ylabel('#records')\n",
        "plt.title(f'Number of straight over-speeding records in year {year}')\n",
        "# plt.xticks(rotation=45)\n",
        "plt.show()\n",
        "\n",
        "turning_os_tramline = overspeed_turning_df.groupby('line').count()\n",
        "turning_os_tramline.index =  turning_os_tramline.index.astype('int32')\n",
        "\n",
        "plt.figure(figsize=(12,3))\n",
        "sb.barplot(data=turning_os_tramline, x=turning_os_tramline.index, y='vehicle')\n",
        "plt.xlabel('Tramline number')\n",
        "plt.ylabel('#records')\n",
        "plt.title(f'Number of turning over-speeding records in year {year}')\n",
        "# plt.xticks(rotation=45)\n",
        "plt.show()"
      ],
      "id": "f76283a4-7ade-4a1e-990d-4cf6e3e468b6"
    },
    {
      "cell_type": "markdown",
      "metadata": {
        "id": "ca3e7de9-a30a-419e-923b-6f2340f21dd3"
      },
      "source": [
        "### `Switch`"
      ],
      "id": "ca3e7de9-a30a-419e-923b-6f2340f21dd3"
    },
    {
      "cell_type": "markdown",
      "metadata": {
        "id": "78027078-25ba-401d-99be-abaa686421f6"
      },
      "source": [
        "**Questions:** Which switch has the most frequent over-speeding issue?"
      ],
      "id": "78027078-25ba-401d-99be-abaa686421f6"
    },
    {
      "cell_type": "code",
      "execution_count": null,
      "metadata": {
        "id": "4e6b4261-13ad-4943-aa38-4912517e8836",
        "scrolled": true
      },
      "outputs": [],
      "source": [
        "os_switch = overspeed_df.groupby('wissel_number').count()\n",
        "\n",
        "plt.figure(figsize=(12,3))\n",
        "sb.barplot(data=os_switch, x=os_switch.index, y='vehicle')\n",
        "plt.xlabel('Switch number')\n",
        "plt.ylabel('#records')\n",
        "plt.title(f'Number of over-speeding records in year {year}')\n",
        "plt.xticks(rotation=90, fontsize=5)\n",
        "plt.show()\n",
        "\n",
        "straight_os_switch = overspeed_straight_df.groupby('wissel_number').count()\n",
        "\n",
        "plt.figure(figsize=(12,3))\n",
        "sb.barplot(data=straight_os_switch, x=straight_os_switch.index, y='vehicle')\n",
        "plt.xlabel('Switch number')\n",
        "plt.ylabel('#records')\n",
        "plt.title(f'Number of straight over-speeding records in year {year}')\n",
        "plt.xticks(rotation=90, fontsize=5)\n",
        "plt.show()\n",
        "\n",
        "turning_os_switch = overspeed_turning_df.groupby('wissel_number').count()\n",
        "\n",
        "plt.figure(figsize=(12,3))\n",
        "sb.barplot(data=turning_os_switch, x=turning_os_switch.index, y='vehicle')\n",
        "plt.xlabel('Switch number')\n",
        "plt.ylabel('#records')\n",
        "plt.title(f'Number of turning over-speeding records in year {year}')\n",
        "plt.xticks(rotation=90, fontsize=5)\n",
        "plt.show()"
      ],
      "id": "4e6b4261-13ad-4943-aa38-4912517e8836"
    },
    {
      "cell_type": "markdown",
      "metadata": {
        "id": "0f2c6326-8f1a-42f0-b691-96f24ff58574"
      },
      "source": [
        "Report the top-10 switch numbers with highest frequency of over-speeding records:"
      ],
      "id": "0f2c6326-8f1a-42f0-b691-96f24ff58574"
    },
    {
      "cell_type": "code",
      "execution_count": null,
      "metadata": {
        "id": "98a9f65c-5cd4-45e6-b7d2-6c8c93334351"
      },
      "outputs": [],
      "source": [
        "os_switch[\"line\"].sort_values(ascending=False).iloc[:10]"
      ],
      "id": "98a9f65c-5cd4-45e6-b7d2-6c8c93334351"
    },
    {
      "cell_type": "markdown",
      "metadata": {
        "id": "45176ff0-bc0d-461c-800d-4145be53f05a"
      },
      "source": [
        "Report the top-10 switch numbers with highest frequency of *straight* over-speeding records:"
      ],
      "id": "45176ff0-bc0d-461c-800d-4145be53f05a"
    },
    {
      "cell_type": "code",
      "execution_count": null,
      "metadata": {
        "id": "28eaea5c-5c0f-4d44-8bb0-9cc254a07377"
      },
      "outputs": [],
      "source": [
        "straight_os_switch[\"line\"].sort_values(ascending=False).iloc[:10]"
      ],
      "id": "28eaea5c-5c0f-4d44-8bb0-9cc254a07377"
    },
    {
      "cell_type": "markdown",
      "metadata": {
        "id": "4a36c6ec-4908-4554-864e-0d2c041ec1dd"
      },
      "source": [
        "Report the top-10 switch numbers with highest frequency of *turning* over-speeding records:"
      ],
      "id": "4a36c6ec-4908-4554-864e-0d2c041ec1dd"
    },
    {
      "cell_type": "code",
      "execution_count": null,
      "metadata": {
        "id": "9a41bf9f-fcf0-4cb5-a4c4-6fc7041e9a2f"
      },
      "outputs": [],
      "source": [
        "turning_os_switch[\"line\"].sort_values(ascending=False).iloc[:10]"
      ],
      "id": "9a41bf9f-fcf0-4cb5-a4c4-6fc7041e9a2f"
    },
    {
      "cell_type": "markdown",
      "metadata": {
        "id": "d30af664-9eaa-43c4-9651-dee287d8800c"
      },
      "source": [
        "For *overall* and *turning* over-speeding records, the top-10 lists are the same."
      ],
      "id": "d30af664-9eaa-43c4-9651-dee287d8800c"
    },
    {
      "cell_type": "markdown",
      "metadata": {
        "id": "5ee41862-5cc8-41bd-a58b-7a89616c8042"
      },
      "source": [
        "### `Geography plot`"
      ],
      "id": "5ee41862-5cc8-41bd-a58b-7a89616c8042"
    },
    {
      "cell_type": "code",
      "execution_count": null,
      "metadata": {
        "id": "4f62b1ad-1f25-485d-a90b-713f971d8d66"
      },
      "outputs": [],
      "source": [
        "import folium\n",
        "\n",
        "overspeed_straight_groupby = overspeed_straight_df.groupby(['latitude_x', 'longitude_x']).count()\n",
        "\n",
        "# Calculate average latitude and longtitude\n",
        "average_latitude = overspeed_df['latitude_x'].mean()\n",
        "average_longitude = overspeed_df['longitude_x'].mean()\n",
        "\n",
        "# background\n",
        "overspeed_map = folium.Map(location=[average_latitude, average_longitude], zoom_start=13)\n",
        "\n",
        "# display all the overspeed events' locations.\n",
        "for (lat, lon) in overspeed_straight_groupby.index.to_list():\n",
        "    print()\n",
        "    folium.CircleMarker(\n",
        "        [lat, lon],\n",
        "        radius=overspeed_straight_groupby.loc[(lat, lon)]['speed']/5000,\n",
        "        color='red',\n",
        "        fill=False,\n",
        "        popup=f\"Latitude: {lat:2.2f}, Longitude: {lon:2.2f}\"\n",
        "    ).add_to(overspeed_map)\n",
        "\n",
        "overspeed_map"
      ],
      "id": "4f62b1ad-1f25-485d-a90b-713f971d8d66"
    },
    {
      "cell_type": "code",
      "execution_count": null,
      "metadata": {
        "id": "acb6b64b-5ac0-44af-8a42-42d3c18073e2"
      },
      "outputs": [],
      "source": [
        "overspeed_turning_groupby = overspeed_turning_df.groupby(['latitude_x', 'longitude_x']).count()\n",
        "\n",
        "# Calculate average latitude and longtitude\n",
        "average_latitude = overspeed_df['latitude_x'].mean()\n",
        "average_longitude = overspeed_df['longitude_x'].mean()\n",
        "\n",
        "# background\n",
        "overspeed_map = folium.Map(location=[average_latitude, average_longitude], zoom_start=13)\n",
        "\n",
        "# display all the overspeed events' locations.\n",
        "for (lat, lon) in overspeed_turning_groupby.index.to_list():\n",
        "    print()\n",
        "    folium.CircleMarker(\n",
        "        [lat, lon],\n",
        "        radius=overspeed_turning_groupby.loc[(lat, lon)]['speed']/5000,\n",
        "        color='blue',\n",
        "        fill=False,\n",
        "        popup=f\"Latitude: {lat:2.2f}, Longitude: {lon:2.2f}\"\n",
        "    ).add_to(overspeed_map)\n",
        "\n",
        "overspeed_map"
      ],
      "id": "acb6b64b-5ac0-44af-8a42-42d3c18073e2"
    },
    {
      "cell_type": "code",
      "execution_count": null,
      "metadata": {
        "id": "5bb32ca4-c9e7-45e1-8661-f5bf2bf2b987"
      },
      "outputs": [],
      "source": [
        "overspeed_straight_groupby = overspeed_straight_df.groupby(['latitude_x', 'longitude_x']).count()\n",
        "overspeed_turning_groupby = overspeed_turning_df.groupby(['latitude_x', 'longitude_x']).count()\n",
        "\n",
        "# Calculate average latitude and longtitude\n",
        "average_latitude = overspeed_df['latitude_x'].mean()\n",
        "average_longitude = overspeed_df['longitude_x'].mean()\n",
        "\n",
        "# background\n",
        "overspeed_map = folium.Map(location=[average_latitude, average_longitude], zoom_start=13)\n",
        "\n",
        "# display all the overspeed events' locations.\n",
        "for (lat, lon) in overspeed_straight_groupby.index.to_list():\n",
        "    print()\n",
        "    folium.CircleMarker(\n",
        "        [lat, lon],\n",
        "        radius=overspeed_straight_groupby.loc[(lat, lon)]['speed']/5000,\n",
        "        color='red',\n",
        "        fill=False,\n",
        "        popup=f\"Latitude: {lat:2.2f}, Longitude: {lon:2.2f}\"\n",
        "    ).add_to(overspeed_map)\n",
        "\n",
        "# display all the overspeed events' locations.\n",
        "for (lat, lon) in overspeed_turning_groupby.index.to_list():\n",
        "    print()\n",
        "    folium.CircleMarker(\n",
        "        [lat+0.0001, lon],\n",
        "        radius=overspeed_turning_groupby.loc[(lat, lon)]['speed']/5000,\n",
        "        color='green',\n",
        "        fill=False,\n",
        "        popup=f\"Latitude: {lat:2.2f}, Longitude: {lon:2.2f}\"\n",
        "    ).add_to(overspeed_map)\n",
        "\n",
        "overspeed_map"
      ],
      "id": "5bb32ca4-c9e7-45e1-8661-f5bf2bf2b987"
    },
    {
      "cell_type": "markdown",
      "metadata": {
        "id": "d7b459a0-53b5-45d1-8ba0-860aaae205cc"
      },
      "source": [
        "## Temporal analysis"
      ],
      "id": "d7b459a0-53b5-45d1-8ba0-860aaae205cc"
    },
    {
      "cell_type": "markdown",
      "metadata": {
        "id": "cd2292e0-94dd-4364-a1fd-2d6d1d6ab89b"
      },
      "source": [
        "## Cluster analysis (frequency-based)"
      ],
      "id": "cd2292e0-94dd-4364-a1fd-2d6d1d6ab89b"
    },
    {
      "cell_type": "code",
      "source": [
        "overspeed_df.head()"
      ],
      "metadata": {
        "id": "MlgTPv0Iqan7"
      },
      "id": "MlgTPv0Iqan7",
      "execution_count": null,
      "outputs": []
    },
    {
      "cell_type": "code",
      "source": [
        "overspeed_df[\"wissel_number\"].unique().shape"
      ],
      "metadata": {
        "id": "AaHYwaA3wXy2"
      },
      "id": "AaHYwaA3wXy2",
      "execution_count": null,
      "outputs": []
    },
    {
      "cell_type": "code",
      "source": [
        "frequency_df = overspeed_df.groupby(['latitude', 'longitude']).size().reset_index(name='frequency')\n",
        "frequency_df"
      ],
      "metadata": {
        "id": "4591lLJOuupc"
      },
      "id": "4591lLJOuupc",
      "execution_count": null,
      "outputs": []
    },
    {
      "cell_type": "code",
      "source": [
        "overspeed_straight_frequency_df = overspeed_straight_df.groupby(['latitude', 'longitude']).size().reset_index(name='frequency')\n",
        "overspeed_straight_frequency_df"
      ],
      "metadata": {
        "id": "gag3O0cK0tsf"
      },
      "id": "gag3O0cK0tsf",
      "execution_count": null,
      "outputs": []
    },
    {
      "cell_type": "code",
      "source": [
        "overspeed_turning_frequency_df = overspeed_turning_df.groupby(['latitude', 'longitude']).size().reset_index(name='frequency')\n",
        "overspeed_turning_frequency_df"
      ],
      "metadata": {
        "id": "vWepEoDI1Q2i"
      },
      "id": "vWepEoDI1Q2i",
      "execution_count": null,
      "outputs": []
    },
    {
      "cell_type": "markdown",
      "metadata": {
        "id": "358cbef5-dd5e-4f51-9b2a-8f8534464757"
      },
      "source": [
        "### Elbow method"
      ],
      "id": "358cbef5-dd5e-4f51-9b2a-8f8534464757"
    },
    {
      "cell_type": "code",
      "source": [
        "year = 2023\n",
        "\n",
        "fig, axs = plt.subplots(1,2,figsize=(13, 6), sharex=True, sharey=False)\n",
        "for col_idx in range(2):\n",
        "    # Elbow method:\n",
        "    num_clusters_range = range(1,11)\n",
        "    sse = []\n",
        "    for n_clusters in num_clusters_range:\n",
        "        kmeans = KMeans(n_clusters, random_state=42, n_init='auto')\n",
        "        if col_idx == 0:\n",
        "            df = overspeed_straight_frequency_df\n",
        "            c = 'red'\n",
        "            dataset = \"straight over-speeding\"\n",
        "        else:\n",
        "            df = overspeed_turning_frequency_df\n",
        "            c = 'green'\n",
        "            dataset = \"turning over-speeding\"\n",
        "        df['cluster'] = kmeans.fit_predict(\n",
        "            df[['latitude', 'longitude', 'frequency']]\n",
        "        )\n",
        "        sse.append(kmeans.inertia_)\n",
        "    axs[col_idx].plot(num_clusters_range, sse, marker='o', c=c)\n",
        "    axs[col_idx].set_title(\n",
        "        f\"Optimal k for {dataset}\",\n",
        "        {'fontsize' : 10}\n",
        "        )\n",
        "plt.show()\n"
      ],
      "metadata": {
        "id": "fj5w3c1_qejU"
      },
      "id": "fj5w3c1_qejU",
      "execution_count": null,
      "outputs": []
    },
    {
      "cell_type": "markdown",
      "source": [
        "### For Three Time Periods"
      ],
      "metadata": {
        "id": "EwcDfTlBqgOj"
      },
      "id": "EwcDfTlBqgOj"
    },
    {
      "cell_type": "code",
      "execution_count": null,
      "metadata": {
        "id": "a41cb2e4-0001-4b4c-b424-c05a169dbc80"
      },
      "outputs": [],
      "source": [
        "# first_date  = '2023-3-30'\n",
        "# second_date = '2023-8-30'\n",
        "\n",
        "# year = 2023\n",
        "# fig, axs = plt.subplots(3,3,figsize=(13, 13), sharex=True, sharey=False)\n",
        "# for row_idx, period in enumerate(['Period 1', 'Period 2', 'Period 3']):\n",
        "#     for col_idx in range(3):\n",
        "#         # Elbow method:\n",
        "#         num_clusters_range = range(1,11)\n",
        "#         sse = []\n",
        "#         for n_clusters in num_clusters_range:\n",
        "#             kmeans = KMeans(n_clusters, random_state=42, n_init='auto')\n",
        "#             if col_idx == 0:\n",
        "#                 df = overspeed_df[overspeed_df['year'] == year]\n",
        "#                 c = 'red'\n",
        "#                 dataset = \"all over-speeding\"\n",
        "#             elif col_idx == 1:\n",
        "#                 df = overspeed_straight_df[overspeed_straight_df['year'] == year]\n",
        "#                 c = 'blue'\n",
        "#                 dataset = \"straight over-speeding\"\n",
        "#             else:\n",
        "#                 df = overspeed_turning_df[overspeed_turning_df['year'] == year]\n",
        "#                 c = 'green'\n",
        "#                 dataset = \"turning over-speeding\"\n",
        "#             if row_idx == 0:\n",
        "#                 df = df[(df[\"hfk_in\"] < pd.to_datetime(first_date))]\n",
        "#             elif row_idx == 1:\n",
        "#                 df = df[(pd.to_datetime(first_date) <= df[\"hfk_in\"]) &\n",
        "#                         (df[\"hfk_in\"] < pd.to_datetime(second_date))]\n",
        "#             else:\n",
        "#                 df = df[(df[\"hfk_in\"] >= pd.to_datetime(second_date))]\n",
        "\n",
        "#             df['cluster'] = kmeans.fit_predict(\n",
        "#                 df[['latitude', 'longitude', 'difference']]\n",
        "#             )\n",
        "#             sse.append(kmeans.inertia_)\n",
        "#         axs[row_idx, col_idx].plot(num_clusters_range, sse, marker='o', c=c)\n",
        "#         axs[row_idx, col_idx].set_title(\n",
        "#             f\"Optimal k for {period} of {dataset}\",\n",
        "#             {'fontsize' : 10}\n",
        "#             )\n",
        "# plt.show()"
      ],
      "id": "a41cb2e4-0001-4b4c-b424-c05a169dbc80"
    },
    {
      "cell_type": "markdown",
      "metadata": {
        "id": "4737e064-896e-4dc9-9629-28b5a7afff84"
      },
      "source": [
        "### Cluster by K-means"
      ],
      "id": "4737e064-896e-4dc9-9629-28b5a7afff84"
    },
    {
      "cell_type": "markdown",
      "metadata": {
        "id": "3918e29a-4e21-4741-a5e5-57b06971c608"
      },
      "source": [
        "Use three features for clustering:\n",
        "- Latitude\n",
        "- Longitude\n",
        "- Frequency of overspeeding"
      ],
      "id": "3918e29a-4e21-4741-a5e5-57b06971c608"
    },
    {
      "cell_type": "markdown",
      "metadata": {
        "id": "e-t6V2tT5W-b"
      },
      "source": [
        "#### Year 2023 - Straight Over-speeding"
      ],
      "id": "e-t6V2tT5W-b"
    },
    {
      "cell_type": "code",
      "execution_count": null,
      "metadata": {
        "id": "1CAXUWAD5WDP"
      },
      "outputs": [],
      "source": [
        "year = 2023\n",
        "overspeed_df_straight2023 = overspeed_straight_df[overspeed_straight_df['year'] == year]\n",
        "speed_df2023 = speed_df[speed_df['year'] == year]\n",
        "\n",
        "# # extract the data for the specfic period:\n",
        "# period_overspeed_df = overspeed_df[overspeed_df[\"hfk_in\"] <= pd.to_datetime(first_date)]\n",
        "# period_speed_df = speed_df[speed_df[\"hfk_in\"] <= pd.to_datetime(first_date)]\n",
        "\n",
        "# calculate the frequency\n",
        "overspeed_df_straight2023 = overspeed_df_straight2023[['line', 'latitude', 'longitude']].groupby(['latitude', 'longitude']).count()\n",
        "overspeed_df_straight2023 = pd.concat([overspeed_df_straight2023, overspeed_df_straight2023.index.to_frame()], axis=1)\n",
        "overspeed_df_straight2023.columns = ['freq', 'latitude', 'longitude']\n",
        "speed_df2023 = speed_df2023[['line', 'latitude', 'longitude']].groupby(['latitude', 'longitude']).count()\n",
        "overspeed_df_straight2023['f'] = overspeed_df_straight2023['freq'] / speed_df2023.loc[overspeed_df_straight2023.index]['line']\n",
        "\n",
        "fig = plt.figure(figsize=(6,6))\n",
        "num_clusters_range = range(1,11)\n",
        "sse = []\n",
        "for n_clusters in num_clusters_range:\n",
        "    kmeans = KMeans(n_clusters, random_state=42, n_init='auto')\n",
        "    overspeed_df_straight2023['cluster'] = kmeans.fit_predict(\n",
        "        overspeed_df_straight2023[['latitude', 'longitude', 'f']]\n",
        "    )\n",
        "    sse.append(kmeans.inertia_)\n",
        "plt.plot(num_clusters_range, sse, marker='o', c='r')\n",
        "plt.title('Optimal k for straight over-speeding')\n",
        "plt.show()\n",
        "\n",
        "n_clusters = 3\n",
        "# fit the model\n",
        "kmeans = KMeans(n_clusters, random_state=42, n_init='auto')\n",
        "overspeed_df_straight2023['cluster'] = kmeans.fit_predict(\n",
        "    overspeed_df_straight2023[['latitude', 'longitude', 'f']]\n",
        "    )\n",
        "\n",
        "fig = plt.figure(figsize=(6,6))\n",
        "plt.scatter(kmeans.cluster_centers_[:,1], kmeans.cluster_centers_[:,0], c='black')\n",
        "plt.scatter(overspeed_df_straight2023['longitude'],\n",
        "            overspeed_df_straight2023['latitude'],\n",
        "            c=overspeed_df_straight2023['cluster'],\n",
        "            cmap='rainbow',\n",
        "            s=10)\n",
        "#plt.title('Straight over-speeding clustering in 2023 (frequency based)')\n",
        "plt.show()\n",
        "\n",
        "fig = plt.figure(figsize=(6,6))\n",
        "ax = fig.add_subplot(projection='3d')\n",
        "\n",
        "ax.scatter(overspeed_df_straight2023['latitude'], overspeed_df_straight2023['longitude'],\n",
        "           overspeed_df_straight2023['f'],\n",
        "           c=overspeed_df_straight2023['cluster'],\n",
        "           s=overspeed_df_straight2023['f']*1000,\n",
        "           cmap='rainbow'\n",
        "           )\n",
        "\n",
        "ax.view_init(elev=30, azim=45,)\n",
        "ax.set_ylabel('Longitude')\n",
        "ax.set_xlabel('Latitude')\n",
        "ax.set_zlabel('Over-speeding')\n",
        "#plt.title(\"All over-speeding\")\n",
        "plt.show()"
      ],
      "id": "1CAXUWAD5WDP"
    },
    {
      "cell_type": "code",
      "source": [
        "overspeed_df_straight2023['freq']"
      ],
      "metadata": {
        "id": "o7BlVlCd97NJ"
      },
      "id": "o7BlVlCd97NJ",
      "execution_count": null,
      "outputs": []
    },
    {
      "cell_type": "code",
      "source": [
        "speed_df2023.loc[overspeed_df_straight2023.index]['line']"
      ],
      "metadata": {
        "id": "OTJ6Fs48-DEZ"
      },
      "id": "OTJ6Fs48-DEZ",
      "execution_count": null,
      "outputs": []
    },
    {
      "cell_type": "code",
      "execution_count": null,
      "metadata": {
        "id": "bmyLS_kaAKPr"
      },
      "outputs": [],
      "source": [
        "# # Calculate average latitude and longtitude\n",
        "# average_latitude = overspeed_df_straight2023['latitude'].mean()\n",
        "# average_longitude = overspeed_df_straight2023['longitude'].mean()\n",
        "\n",
        "# print(\"Average Latitude:\", average_latitude)\n",
        "# print(\"Average Longitude:\", average_longitude)\n",
        "\n",
        "# # Create a map object, set the initial location and zoom level\n",
        "# map_combine = folium.Map(location=[average_latitude, average_longitude], zoom_start=12)\n",
        "\n",
        "# # # Add cluster centers as special markers\n",
        "# # for i in range(len(kmeans.cluster_centers_)):\n",
        "# #     folium.Marker(\n",
        "# #         [kmeans.cluster_centers_[i][0], kmeans.cluster_centers_[i][1]],\n",
        "# #         icon=folium.Icon(color='red', icon='info-sign')\n",
        "# #     ).add_to(map_combine)\n",
        "\n",
        "# # Add data points based on clustering results\n",
        "# for index, row in overspeed_df_straight2023.iterrows():\n",
        "#     if row['cluster'] == 0:\n",
        "#       color = 'red'\n",
        "#     elif row['cluster'] == 1:\n",
        "#       color = 'blue'\n",
        "#     elif row['cluster'] == 2:\n",
        "#       color = 'purple'\n",
        "#     elif row['cluster'] == 3:\n",
        "#       color = 'orange'\n",
        "#     else:\n",
        "#       color = 'green'\n",
        "#     folium.CircleMarker(\n",
        "#         [row['latitude'], row['longitude']],\n",
        "#         radius=5,\n",
        "#         color=color,\n",
        "#         fill=True,\n",
        "#     ).add_to(map_combine)\n",
        "\n",
        "# # Display the map\n",
        "# map_combine"
      ],
      "id": "bmyLS_kaAKPr"
    },
    {
      "cell_type": "code",
      "source": [],
      "metadata": {
        "id": "5JQlSYH295C6"
      },
      "id": "5JQlSYH295C6",
      "execution_count": null,
      "outputs": []
    },
    {
      "cell_type": "code",
      "execution_count": null,
      "metadata": {
        "id": "TuemzTfqydpC"
      },
      "outputs": [],
      "source": [
        "# img_data = map_combine._to_png(5)\n",
        "# img = Image.open(io.BytesIO(img_data))\n",
        "# img.save(\"/content/drive/My Drive/MyImages/clustering_straight_2023_map_frequency.png\")"
      ],
      "id": "TuemzTfqydpC"
    },
    {
      "cell_type": "markdown",
      "metadata": {
        "id": "71cRKfkY9VM4"
      },
      "source": [
        "#### Year 2023 - Turning Over-speeding"
      ],
      "id": "71cRKfkY9VM4"
    },
    {
      "cell_type": "code",
      "execution_count": null,
      "metadata": {
        "id": "Yeo3o30h9RmO"
      },
      "outputs": [],
      "source": [
        "year = 2023\n",
        "overspeed_df_turning2023 = overspeed_turning_df[overspeed_turning_df['year'] == year]\n",
        "speed_df2023 = speed_df[speed_df['year'] == year]\n",
        "\n",
        "# # extract the data for the specfic period:\n",
        "# period_overspeed_df = overspeed_df[overspeed_df[\"hfk_in\"] <= pd.to_datetime(first_date)]\n",
        "# period_speed_df = speed_df[speed_df[\"hfk_in\"] <= pd.to_datetime(first_date)]\n",
        "\n",
        "# calculate the frequency\n",
        "overspeed_df_turning2023 = overspeed_df_turning2023[['line', 'latitude', 'longitude']].groupby(['latitude', 'longitude']).count()\n",
        "overspeed_df_turning2023 = pd.concat([overspeed_df_turning2023, overspeed_df_turning2023.index.to_frame()], axis=1)\n",
        "overspeed_df_turning2023.columns = ['freq', 'latitude', 'longitude']\n",
        "speed_df2023 = speed_df2023[['line', 'latitude', 'longitude']].groupby(['latitude', 'longitude']).count()\n",
        "overspeed_df_turning2023['f'] = overspeed_df_turning2023['freq'] / speed_df2023.loc[overspeed_df_turning2023.index]['line']\n",
        "\n",
        "fig = plt.figure(figsize=(6,6))\n",
        "num_clusters_range = range(1,11)\n",
        "sse = []\n",
        "for n_clusters in num_clusters_range:\n",
        "    kmeans = KMeans(n_clusters, random_state=42, n_init='auto')\n",
        "    overspeed_df_turning2023['cluster'] = kmeans.fit_predict(\n",
        "        overspeed_df_turning2023[['latitude', 'longitude', 'f']]\n",
        "    )\n",
        "    sse.append(kmeans.inertia_)\n",
        "plt.plot(num_clusters_range, sse, marker='o', c=c)\n",
        "plt.title('Optimal k for turning over-speeding')\n",
        "plt.show()\n",
        "\n",
        "n_clusters = 3\n",
        "# fit the model\n",
        "kmeans = KMeans(n_clusters, random_state=42, n_init='auto')\n",
        "overspeed_df_turning2023['cluster'] = kmeans.fit_predict(\n",
        "    overspeed_df_turning2023[['latitude', 'longitude', 'f']]\n",
        "    )\n",
        "\n",
        "fig = plt.figure(figsize=(6,6))\n",
        "plt.scatter(kmeans.cluster_centers_[:,1], kmeans.cluster_centers_[:,0], c='black')\n",
        "plt.scatter(overspeed_df_turning2023['longitude'],\n",
        "            overspeed_df_turning2023['latitude'],\n",
        "            c=overspeed_df_turning2023['cluster'],\n",
        "            cmap='rainbow',\n",
        "            s=10)\n",
        "#plt.title('Turning over-speeding clustering in 2023 (frequency based)')\n",
        "plt.show()\n",
        "\n",
        "fig = plt.figure(figsize=(6,6))\n",
        "ax = fig.add_subplot(projection='3d')\n",
        "\n",
        "ax.scatter(overspeed_df_turning2023['latitude'], overspeed_df_turning2023['longitude'],\n",
        "           overspeed_df_turning2023['f'],\n",
        "           c=overspeed_df_turning2023['cluster'],\n",
        "           s=overspeed_df_turning2023['f']*100,\n",
        "           cmap='rainbow'\n",
        "           )\n",
        "\n",
        "ax.view_init(elev=30, azim=45,)\n",
        "ax.set_ylabel('Longitude')\n",
        "ax.set_xlabel('Latitude')\n",
        "ax.set_zlabel('Over-speeding')\n",
        "#plt.title(\"All over-speeding\")\n",
        "plt.show()"
      ],
      "id": "Yeo3o30h9RmO"
    },
    {
      "cell_type": "code",
      "execution_count": null,
      "metadata": {
        "id": "iR4UGPdrzjF9"
      },
      "outputs": [],
      "source": [
        "# Calculate average latitude and longtitude\n",
        "average_latitude = overspeed_df_turning2023['latitude'].mean()\n",
        "average_longitude = overspeed_df_turning2023['longitude'].mean()\n",
        "\n",
        "print(\"Average Latitude:\", average_latitude)\n",
        "print(\"Average Longitude:\", average_longitude)\n",
        "\n",
        "# Create a map object, set the initial location and zoom level\n",
        "map_combine = folium.Map(location=[average_latitude, average_longitude], zoom_start=12)\n",
        "\n",
        "# # Add cluster centers as special markers\n",
        "# for i in range(len(kmeans.cluster_centers_)):\n",
        "#     folium.Marker(\n",
        "#         [kmeans.cluster_centers_[i][0], kmeans.cluster_centers_[i][1]],\n",
        "#         icon=folium.Icon(color='red', icon='info-sign')\n",
        "#     ).add_to(map_combine)\n",
        "\n",
        "# Add data points based on clustering results\n",
        "for index, row in overspeed_df_turning2023.iterrows():\n",
        "    if row['cluster'] == 0:\n",
        "      color = 'red'\n",
        "    elif row['cluster'] == 1:\n",
        "      color = 'blue'\n",
        "    else:\n",
        "      color = 'green'\n",
        "    folium.CircleMarker(\n",
        "        [row['latitude'], row['longitude']],\n",
        "        radius=5,\n",
        "        color=color,\n",
        "        fill=True,\n",
        "    ).add_to(map_combine)\n",
        "\n",
        "# Display the map\n",
        "map_combine"
      ],
      "id": "iR4UGPdrzjF9"
    },
    {
      "cell_type": "code",
      "execution_count": null,
      "metadata": {
        "id": "yGuKhxzqz3Mr"
      },
      "outputs": [],
      "source": [
        "img_data = map_combine._to_png(5)\n",
        "img = Image.open(io.BytesIO(img_data))\n",
        "img.save(\"/content/drive/My Drive/MyImages/clustering_turning_2023_map_frequency.png\")"
      ],
      "id": "yGuKhxzqz3Mr"
    },
    {
      "cell_type": "markdown",
      "metadata": {
        "id": "FacvUL99ywKo"
      },
      "source": [
        "#### Three Time Periods"
      ],
      "id": "FacvUL99ywKo"
    },
    {
      "cell_type": "code",
      "execution_count": null,
      "metadata": {
        "id": "3cc7343a-6711-4c29-b6ab-94b23c4696cc"
      },
      "outputs": [],
      "source": [
        "first_date = '2023-3-30'\n",
        "second_date = '2023-8-30'"
      ],
      "id": "3cc7343a-6711-4c29-b6ab-94b23c4696cc"
    },
    {
      "cell_type": "markdown",
      "metadata": {
        "id": "3019a79c-82a8-4f00-80de-0c8e7436173b"
      },
      "source": [
        "#### Period 1 - all over-speed"
      ],
      "id": "3019a79c-82a8-4f00-80de-0c8e7436173b"
    },
    {
      "cell_type": "code",
      "execution_count": null,
      "metadata": {
        "id": "78b8c1b7-7aa1-453b-9df0-3e4222922687"
      },
      "outputs": [],
      "source": [
        "# extract the data for the specfic period:\n",
        "period_overspeed_df = overspeed_df[overspeed_df[\"hfk_in\"] <= pd.to_datetime(first_date)]\n",
        "period_speed_df = speed_df[speed_df[\"hfk_in\"] <= pd.to_datetime(first_date)]\n",
        "\n",
        "# calculate the frequency\n",
        "period_overspeed_df = period_overspeed_df[['line', 'latitude', 'longitude']].groupby(['latitude', 'longitude']).count()\n",
        "period_overspeed_df = pd.concat([period_overspeed_df, period_overspeed_df.index.to_frame()], axis=1)\n",
        "period_overspeed_df.columns = ['freq', 'latitude', 'longitude']\n",
        "period_speed_df = period_speed_df[['line', 'latitude', 'longitude']].groupby(['latitude', 'longitude']).count()\n",
        "period_overspeed_df['f'] = period_overspeed_df['freq'] / period_speed_df.loc[period_overspeed_df.index]['line']\n",
        "\n",
        "fig = plt.figure(figsize=(6,6))\n",
        "num_clusters_range = range(1,11)\n",
        "sse = []\n",
        "for n_clusters in num_clusters_range:\n",
        "    kmeans = KMeans(n_clusters, random_state=42, n_init='auto')\n",
        "    period_overspeed_df['cluster'] = kmeans.fit_predict(\n",
        "        period_overspeed_df[['latitude', 'longitude', 'f']]\n",
        "    )\n",
        "    sse.append(kmeans.inertia_)\n",
        "plt.plot(num_clusters_range, sse, marker='o', c=c)\n",
        "plt.show()\n",
        "\n",
        "n_clusters = 3\n",
        "# fit the model\n",
        "kmeans = KMeans(n_clusters, random_state=42, n_init='auto')\n",
        "period_overspeed_df['cluster'] = kmeans.fit_predict(\n",
        "    period_overspeed_df[['latitude', 'longitude', 'f']]\n",
        "    )\n",
        "\n",
        "fig = plt.figure(figsize=(6,6))\n",
        "plt.scatter(kmeans.cluster_centers_[:,1], kmeans.cluster_centers_[:,0], c='black')\n",
        "plt.scatter(period_overspeed_df['longitude'],\n",
        "            period_overspeed_df['latitude'],\n",
        "            c=period_overspeed_df['cluster'],\n",
        "            cmap='rainbow',\n",
        "            s=10)\n",
        "plt.title('All over-speeding clustering in period 1')\n",
        "plt.show()\n",
        "\n",
        "fig = plt.figure(figsize=(6,6))\n",
        "ax = fig.add_subplot(projection='3d')\n",
        "\n",
        "ax.scatter(period_overspeed_df['latitude'], period_overspeed_df['longitude'],\n",
        "           period_overspeed_df['f'],\n",
        "           c=period_overspeed_df['cluster'],\n",
        "           s=period_overspeed_df['f']*100\n",
        "           )\n",
        "\n",
        "ax.view_init(elev=30, azim=45,)\n",
        "ax.set_ylabel('Longitude')\n",
        "ax.set_xlabel('Latitude')\n",
        "ax.set_zlabel('Over-speeding')\n",
        "plt.title(\"All over-speeding\")\n",
        "plt.show()"
      ],
      "id": "78b8c1b7-7aa1-453b-9df0-3e4222922687"
    },
    {
      "cell_type": "markdown",
      "metadata": {
        "id": "0f0a9240-3fe4-435b-881e-6929969d5f19"
      },
      "source": [
        "#### Period 2 - all over-speed"
      ],
      "id": "0f0a9240-3fe4-435b-881e-6929969d5f19"
    },
    {
      "cell_type": "code",
      "execution_count": null,
      "metadata": {
        "id": "bfd4ff51-2115-40bc-b5c9-2536755c7eca"
      },
      "outputs": [],
      "source": [
        "# extract the data for the specfic period:\n",
        "period_overspeed_df = overspeed_df[\n",
        "    (overspeed_df[\"hfk_in\"] > pd.to_datetime(first_date)) &\n",
        "    (overspeed_df[\"hfk_in\"] <= pd.to_datetime(second_date))\n",
        "]\n",
        "period_speed_df = speed_df[\n",
        "    (speed_df[\"hfk_in\"] > pd.to_datetime(first_date)) &\n",
        "    (speed_df[\"hfk_in\"] <= pd.to_datetime(second_date))\n",
        "]\n",
        "\n",
        "# calculate the frequency\n",
        "period_overspeed_df = period_overspeed_df[['line', 'latitude_x', 'longitude_x']].groupby(['latitude', 'longitude']).count()\n",
        "period_overspeed_df = pd.concat([period_overspeed_df, period_overspeed_df.index.to_frame()], axis=1)\n",
        "period_overspeed_df.columns = ['freq', 'latitude', 'longitude']\n",
        "period_speed_df = period_speed_df[['line', 'latitude', 'longitude']].groupby(['latitude', 'longitude']).count()\n",
        "period_overspeed_df['f'] = period_overspeed_df['freq'] / period_speed_df.loc[period_overspeed_df.index]['line']\n",
        "\n",
        "fig = plt.figure(figsize=(6,6))\n",
        "num_clusters_range = range(1,11)\n",
        "sse = []\n",
        "for n_clusters in num_clusters_range:\n",
        "    kmeans = KMeans(n_clusters, random_state=42, n_init='auto')\n",
        "    period_overspeed_df['cluster'] = kmeans.fit_predict(\n",
        "        period_overspeed_df[['latitude', 'longitude', 'f']]\n",
        "    )\n",
        "    sse.append(kmeans.inertia_)\n",
        "plt.plot(num_clusters_range, sse, marker='o', c=c)\n",
        "plt.show()\n",
        "\n",
        "n_clusters = 3\n",
        "# fit the model\n",
        "kmeans = KMeans(n_clusters, random_state=42, n_init='auto')\n",
        "period_overspeed_df['cluster'] = kmeans.fit_predict(\n",
        "    period_overspeed_df[['latitude', 'longitude', 'f']]\n",
        "    )\n",
        "\n",
        "fig = plt.figure(figsize=(6,6))\n",
        "plt.scatter(kmeans.cluster_centers_[:,1], kmeans.cluster_centers_[:,0], c='black')\n",
        "plt.scatter(period_overspeed_df['longitude'],\n",
        "            period_overspeed_df['latitude'],\n",
        "            c=period_overspeed_df['cluster'],\n",
        "            cmap='rainbow',\n",
        "            s=10)\n",
        "plt.title('All over-speeding clustering in period 2')\n",
        "plt.show()\n",
        "\n",
        "fig = plt.figure(figsize=(6,6))\n",
        "ax = fig.add_subplot(projection='3d')\n",
        "\n",
        "ax.scatter(period_overspeed_df['latitude'], period_overspeed_df['longitude'],\n",
        "           period_overspeed_df['f'],\n",
        "           c=period_overspeed_df['cluster'],\n",
        "           s=period_overspeed_df['f']*100\n",
        "           )\n",
        "\n",
        "ax.view_init(elev=30, azim=45,)\n",
        "ax.set_ylabel('Longitude')\n",
        "ax.set_xlabel('Latitude')\n",
        "ax.set_zlabel('Over-speeding')\n",
        "plt.title(\"All over-speeding\")\n",
        "plt.show()"
      ],
      "id": "bfd4ff51-2115-40bc-b5c9-2536755c7eca"
    },
    {
      "cell_type": "markdown",
      "metadata": {
        "id": "d29073a8-de62-4ec7-b3f6-008f468f536b"
      },
      "source": [
        "#### Period 3 - all over-speed"
      ],
      "id": "d29073a8-de62-4ec7-b3f6-008f468f536b"
    },
    {
      "cell_type": "code",
      "execution_count": null,
      "metadata": {
        "id": "78d4dfff-6b77-4730-b6b0-8befa7a9b3ba"
      },
      "outputs": [],
      "source": [
        "# extract the data for the specfic period:\n",
        "period_overspeed_df = overspeed_df[\n",
        "    (overspeed_df[\"hfk_in\"] > pd.to_datetime(second_date))\n",
        "]\n",
        "period_speed_df = speed_df[\n",
        "    (speed_df[\"hfk_in\"] > pd.to_datetime(second_date))\n",
        "]\n",
        "\n",
        "# calculate the frequency\n",
        "period_overspeed_df = period_overspeed_df[['line', 'latitude', 'longitude']].groupby(['latitude', 'longitude']).count()\n",
        "period_overspeed_df = pd.concat([period_overspeed_df, period_overspeed_df.index.to_frame()], axis=1)\n",
        "period_overspeed_df.columns = ['freq', 'latitude', 'longitude']\n",
        "period_speed_df = period_speed_df[['line', 'latitude', 'longitude']].groupby(['latitude', 'longitude']).count()\n",
        "period_overspeed_df['f'] = period_overspeed_df['freq'] / period_speed_df.loc[period_overspeed_df.index]['line']\n",
        "\n",
        "fig = plt.figure(figsize=(6,6))\n",
        "num_clusters_range = range(1,11)\n",
        "sse = []\n",
        "for n_clusters in num_clusters_range:\n",
        "    kmeans = KMeans(n_clusters, random_state=42, n_init='auto')\n",
        "    period_overspeed_df['cluster'] = kmeans.fit_predict(\n",
        "        period_overspeed_df[['latitude', 'longitude', 'f']]\n",
        "    )\n",
        "    sse.append(kmeans.inertia_)\n",
        "plt.plot(num_clusters_range, sse, marker='o', c=c)\n",
        "plt.show()\n",
        "\n",
        "n_clusters = 3\n",
        "# fit the model\n",
        "kmeans = KMeans(n_clusters, random_state=42, n_init='auto')\n",
        "period_overspeed_df['cluster'] = kmeans.fit_predict(\n",
        "    period_overspeed_df[['latitude', 'longitude', 'f']]\n",
        "    )\n",
        "\n",
        "fig = plt.figure(figsize=(6,6))\n",
        "plt.scatter(kmeans.cluster_centers_[:,1], kmeans.cluster_centers_[:,0], c='black')\n",
        "plt.scatter(period_overspeed_df['longitude'],\n",
        "            period_overspeed_df['latitude'],\n",
        "            c=period_overspeed_df['cluster'],\n",
        "            cmap='rainbow',\n",
        "            s=10)\n",
        "plt.title('All over-speeding clustering in period 3')\n",
        "plt.show()\n",
        "\n",
        "fig = plt.figure(figsize=(6,6))\n",
        "ax = fig.add_subplot(projection='3d')\n",
        "\n",
        "ax.scatter(period_overspeed_df['latitude'], period_overspeed_df['longitude'],\n",
        "           period_overspeed_df['f'],\n",
        "           c=period_overspeed_df['cluster'],\n",
        "           s=period_overspeed_df['f']*100\n",
        "           )\n",
        "\n",
        "ax.view_init(elev=30, azim=45,)\n",
        "ax.set_ylabel('Longitude')\n",
        "ax.set_xlabel('Latitude')\n",
        "ax.set_zlabel('Over-speeding')\n",
        "plt.title(\"All over-speeding\")\n",
        "plt.show()"
      ],
      "id": "78d4dfff-6b77-4730-b6b0-8befa7a9b3ba"
    },
    {
      "cell_type": "markdown",
      "metadata": {
        "id": "adf0c2e4-5cdb-4aae-a2cf-67132a61ea45"
      },
      "source": [
        "#### Period 1 - straight over-speed"
      ],
      "id": "adf0c2e4-5cdb-4aae-a2cf-67132a61ea45"
    },
    {
      "cell_type": "code",
      "execution_count": null,
      "metadata": {
        "id": "d1adc952-535e-4670-b9af-b8c5f9907996"
      },
      "outputs": [],
      "source": [
        "# extract the data for the specfic period:\n",
        "period_overspeed_df = overspeed_straight_df[overspeed_straight_df[\"hfk_in\"] <= pd.to_datetime(first_date)]\n",
        "period_speed_df = speed_df[speed_df[\"hfk_in\"] <= pd.to_datetime(first_date)]\n",
        "\n",
        "# calculate the frequency\n",
        "period_overspeed_df = period_overspeed_df[['line', 'latitude', 'longitude']].groupby(['latitude', 'longitude']).count()\n",
        "period_overspeed_df = pd.concat([period_overspeed_df, period_overspeed_df.index.to_frame()], axis=1)\n",
        "period_overspeed_df.columns = ['freq', 'latitude', 'longitude']\n",
        "period_speed_df = period_speed_df[['line', 'latitude', 'longitude']].groupby(['latitude', 'longitude']).count()\n",
        "period_overspeed_df['f'] = period_overspeed_df['freq'] / period_speed_df.loc[period_overspeed_df.index]['line']\n",
        "\n",
        "fig = plt.figure(figsize=(6,6))\n",
        "num_clusters_range = range(1,11)\n",
        "sse = []\n",
        "for n_clusters in num_clusters_range:\n",
        "    kmeans = KMeans(n_clusters, random_state=42, n_init='auto')\n",
        "    period_overspeed_df['cluster'] = kmeans.fit_predict(\n",
        "        period_overspeed_df[['latitude', 'longitude', 'f']]\n",
        "    )\n",
        "    sse.append(kmeans.inertia_)\n",
        "plt.plot(num_clusters_range, sse, marker='o', c=c)\n",
        "plt.show()\n",
        "\n",
        "n_clusters = 6\n",
        "# fit the model\n",
        "kmeans = KMeans(n_clusters, random_state=42, n_init='auto')\n",
        "period_overspeed_df['cluster'] = kmeans.fit_predict(\n",
        "    period_overspeed_df[['latitude', 'longitude', 'f']]\n",
        "    )\n",
        "\n",
        "fig = plt.figure(figsize=(6,6))\n",
        "plt.scatter(kmeans.cluster_centers_[:,1], kmeans.cluster_centers_[:,0], c='black')\n",
        "plt.scatter(period_overspeed_df['longitude'],\n",
        "            period_overspeed_df['latitude'],\n",
        "            c=period_overspeed_df['cluster'],\n",
        "            cmap='rainbow',\n",
        "            s=10)\n",
        "plt.title('All over-speeding clustering in period 1')\n",
        "plt.show()\n",
        "\n",
        "fig = plt.figure(figsize=(6,6))\n",
        "ax = fig.add_subplot(projection='3d')\n",
        "\n",
        "ax.scatter(period_overspeed_df['latitude'], period_overspeed_df['longitude'],\n",
        "           period_overspeed_df['f'],\n",
        "           c=period_overspeed_df['cluster'],\n",
        "           s=period_overspeed_df['f']*3000\n",
        "           )\n",
        "\n",
        "ax.view_init(elev=50, azim=45,)\n",
        "ax.set_ylabel('Longitude')\n",
        "ax.set_xlabel('Latitude')\n",
        "ax.set_zlabel('Over-speeding')\n",
        "plt.title(\"All over-speeding\")\n",
        "plt.show()"
      ],
      "id": "d1adc952-535e-4670-b9af-b8c5f9907996"
    },
    {
      "cell_type": "markdown",
      "metadata": {
        "id": "0f0f920c-f29b-4d0b-ad60-745d18560255"
      },
      "source": [
        "#### Period 2 - straight over-speed"
      ],
      "id": "0f0f920c-f29b-4d0b-ad60-745d18560255"
    },
    {
      "cell_type": "code",
      "execution_count": null,
      "metadata": {
        "id": "3afbec54-9761-4c7c-9bee-793f3097be98"
      },
      "outputs": [],
      "source": [
        "# extract the data for the specfic period:\n",
        "period_overspeed_df = overspeed_straight_df[\n",
        "    (overspeed_straight_df[\"hfk_in\"] > pd.to_datetime(first_date)) &\n",
        "    (overspeed_straight_df[\"hfk_in\"] <= pd.to_datetime(second_date))\n",
        "]\n",
        "period_speed_df = speed_df[\n",
        "    (speed_df[\"hfk_in\"] > pd.to_datetime(first_date)) &\n",
        "    (speed_df[\"hfk_in\"] <= pd.to_datetime(second_date))\n",
        "]\n",
        "\n",
        "# calculate the frequency\n",
        "period_overspeed_df = period_overspeed_df[['line', 'latitude', 'longitude']].groupby(['latitude', 'longitude']).count()\n",
        "period_overspeed_df = pd.concat([period_overspeed_df, period_overspeed_df.index.to_frame()], axis=1)\n",
        "period_overspeed_df.columns = ['freq', 'latitude', 'longitude']\n",
        "period_speed_df = period_speed_df[['line', 'latitude', 'longitude']].groupby(['latitude', 'longitude']).count()\n",
        "period_overspeed_df['f'] = period_overspeed_df['freq'] / period_speed_df.loc[period_overspeed_df.index]['line']\n",
        "\n",
        "fig = plt.figure(figsize=(6,6))\n",
        "num_clusters_range = range(1,11)\n",
        "sse = []\n",
        "for n_clusters in num_clusters_range:\n",
        "    kmeans = KMeans(n_clusters, random_state=42, n_init='auto')\n",
        "    period_overspeed_df['cluster'] = kmeans.fit_predict(\n",
        "        period_overspeed_df[['latitude', 'longitude', 'f']]\n",
        "    )\n",
        "    sse.append(kmeans.inertia_)\n",
        "plt.plot(num_clusters_range, sse, marker='o', c=c)\n",
        "plt.show()\n",
        "\n",
        "n_clusters = 4\n",
        "# fit the model\n",
        "kmeans = KMeans(n_clusters, random_state=42, n_init='auto')\n",
        "period_overspeed_df['cluster'] = kmeans.fit_predict(\n",
        "    period_overspeed_df[['latitude', 'longitude', 'f']]\n",
        "    )\n",
        "\n",
        "fig = plt.figure(figsize=(6,6))\n",
        "plt.scatter(kmeans.cluster_centers_[:,1], kmeans.cluster_centers_[:,0], c='black')\n",
        "plt.scatter(period_overspeed_df['longitude'],\n",
        "            period_overspeed_df['latitude'],\n",
        "            c=period_overspeed_df['cluster'],\n",
        "            cmap='rainbow',\n",
        "            s=10)\n",
        "plt.title('All over-speeding clustering in period 2')\n",
        "plt.show()\n",
        "\n",
        "fig = plt.figure(figsize=(6,6))\n",
        "ax = fig.add_subplot(projection='3d')\n",
        "\n",
        "ax.scatter(period_overspeed_df['latitude'], period_overspeed_df['longitude'],\n",
        "           period_overspeed_df['f'],\n",
        "           c=period_overspeed_df['cluster'],\n",
        "           s=period_overspeed_df['f']*3000\n",
        "           )\n",
        "\n",
        "ax.view_init(elev=50, azim=45,)\n",
        "ax.set_ylabel('Longitude')\n",
        "ax.set_xlabel('Latitude')\n",
        "ax.set_zlabel('Over-speeding')\n",
        "plt.title(\"All over-speeding\")\n",
        "plt.show()"
      ],
      "id": "3afbec54-9761-4c7c-9bee-793f3097be98"
    },
    {
      "cell_type": "markdown",
      "metadata": {
        "id": "34191843-98fc-4439-8d86-cba800e4767e"
      },
      "source": [
        "#### Period 3 - straight over-speed"
      ],
      "id": "34191843-98fc-4439-8d86-cba800e4767e"
    },
    {
      "cell_type": "code",
      "execution_count": null,
      "metadata": {
        "id": "c8b76e46-a362-4416-a2f8-e04dbb2cb5d3"
      },
      "outputs": [],
      "source": [
        "# extract the data for the specfic period:\n",
        "period_overspeed_df = overspeed_straight_df[\n",
        "    (overspeed_straight_df[\"hfk_in\"] > pd.to_datetime(second_date))\n",
        "]\n",
        "period_speed_df = speed_df[\n",
        "    (speed_df[\"hfk_in\"] > pd.to_datetime(second_date))\n",
        "]\n",
        "\n",
        "# calculate the frequency\n",
        "period_overspeed_df = period_overspeed_df[['line', 'latitude', 'longitude']].groupby(['latitude', 'longitude']).count()\n",
        "period_overspeed_df = pd.concat([period_overspeed_df, period_overspeed_df.index.to_frame()], axis=1)\n",
        "period_overspeed_df.columns = ['freq', 'latitude', 'longitude']\n",
        "period_speed_df = period_speed_df[['line', 'latitude', 'longitude']].groupby(['latitude', 'longitude']).count()\n",
        "period_overspeed_df['f'] = period_overspeed_df['freq'] / period_speed_df.loc[period_overspeed_df.index]['line']\n",
        "\n",
        "fig = plt.figure(figsize=(6,6))\n",
        "num_clusters_range = range(1,11)\n",
        "sse = []\n",
        "for n_clusters in num_clusters_range:\n",
        "    kmeans = KMeans(n_clusters, random_state=42, n_init='auto')\n",
        "    period_overspeed_df['cluster'] = kmeans.fit_predict(\n",
        "        period_overspeed_df[['latitude', 'longitude', 'f']]\n",
        "    )\n",
        "    sse.append(kmeans.inertia_)\n",
        "plt.plot(num_clusters_range, sse, marker='o', c=c)\n",
        "plt.show()\n",
        "\n",
        "n_clusters = 6\n",
        "# fit the model\n",
        "kmeans = KMeans(n_clusters, random_state=42, n_init='auto')\n",
        "period_overspeed_df['cluster'] = kmeans.fit_predict(\n",
        "    period_overspeed_df[['latitude', 'longitude', 'f']]\n",
        "    )\n",
        "\n",
        "fig = plt.figure(figsize=(6,6))\n",
        "plt.scatter(kmeans.cluster_centers_[:,1], kmeans.cluster_centers_[:,0], c='black')\n",
        "plt.scatter(period_overspeed_df['longitude'],\n",
        "            period_overspeed_df['latitude'],\n",
        "            c=period_overspeed_df['cluster'],\n",
        "            cmap='rainbow',\n",
        "            s=10)\n",
        "plt.title('Straight over-speeding clustering in period 3')\n",
        "plt.show()\n",
        "\n",
        "fig = plt.figure(figsize=(6,6))\n",
        "ax = fig.add_subplot(projection='3d')\n",
        "\n",
        "ax.scatter(period_overspeed_df['latitude'], period_overspeed_df['longitude'],\n",
        "           period_overspeed_df['f'],\n",
        "           c=period_overspeed_df['cluster'],\n",
        "           s=period_overspeed_df['f']*1500\n",
        "           )\n",
        "\n",
        "ax.view_init(elev=30, azim=45,)\n",
        "ax.set_ylabel('Longitude')\n",
        "ax.set_xlabel('Latitude')\n",
        "ax.set_zlabel('Over-speeding')\n",
        "plt.title(\"All over-speeding\")\n",
        "plt.show()"
      ],
      "id": "c8b76e46-a362-4416-a2f8-e04dbb2cb5d3"
    },
    {
      "cell_type": "code",
      "execution_count": null,
      "metadata": {
        "id": "e67a79ad-14f0-4939-85c9-039d7e793a9b"
      },
      "outputs": [],
      "source": [],
      "id": "e67a79ad-14f0-4939-85c9-039d7e793a9b"
    }
  ],
  "metadata": {
    "colab": {
      "toc_visible": true,
      "provenance": [],
      "include_colab_link": true
    },
    "kernelspec": {
      "display_name": "Python 3 (ipykernel)",
      "language": "python",
      "name": "python3"
    },
    "language_info": {
      "codemirror_mode": {
        "name": "ipython",
        "version": 3
      },
      "file_extension": ".py",
      "mimetype": "text/x-python",
      "name": "python",
      "nbconvert_exporter": "python",
      "pygments_lexer": "ipython3",
      "version": "3.11.5"
    }
  },
  "nbformat": 4,
  "nbformat_minor": 5
}